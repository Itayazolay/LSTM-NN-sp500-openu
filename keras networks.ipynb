{
 "cells": [
  {
   "cell_type": "code",
   "execution_count": 1,
   "metadata": {},
   "outputs": [],
   "source": [
    "import numpy as np\n",
    "import tensorflow as tf\n",
    "from tensorflow import keras\n",
    "from tensorflow.keras import layers\n",
    "import seaborn as sns\n"
   ]
  },
  {
   "cell_type": "markdown",
   "metadata": {},
   "source": [
    "#  Train Dense network that can add two numbers"
   ]
  },
  {
   "cell_type": "code",
   "execution_count": null,
   "metadata": {},
   "outputs": [],
   "source": []
  },
  {
   "cell_type": "code",
   "execution_count": 2,
   "metadata": {},
   "outputs": [
    {
     "name": "stdout",
     "output_type": "stream",
     "text": [
      "Epoch 1/100\n",
      "500/500 [==============================] - 0s 794us/step - loss: 961.5784 - mse: 1110131.3750\n",
      "Epoch 2/100\n",
      "500/500 [==============================] - 0s 777us/step - loss: 891.6341 - mse: 982852.0625\n",
      "Epoch 3/100\n",
      "500/500 [==============================] - 0s 750us/step - loss: 743.2906 - mse: 731312.0625\n",
      "Epoch 4/100\n",
      "500/500 [==============================] - 0s 773us/step - loss: 522.6976 - mse: 409776.8750\n",
      "Epoch 5/100\n",
      "500/500 [==============================] - 0s 760us/step - loss: 273.2965 - mse: 120147.8672\n",
      "Epoch 6/100\n",
      "500/500 [==============================] - 0s 762us/step - loss: 158.3738 - mse: 44455.3008\n",
      "Epoch 7/100\n",
      "500/500 [==============================] - 0s 782us/step - loss: 118.3348 - mse: 33276.7031\n",
      "Epoch 8/100\n",
      "500/500 [==============================] - 0s 738us/step - loss: 85.9680 - mse: 26370.7207\n",
      "Epoch 9/100\n",
      "500/500 [==============================] - 0s 786us/step - loss: 61.8569 - mse: 17682.8867\n",
      "Epoch 10/100\n",
      "500/500 [==============================] - 0s 765us/step - loss: 45.3833 - mse: 10829.2744\n",
      "Epoch 11/100\n",
      "500/500 [==============================] - 0s 790us/step - loss: 33.6637 - mse: 6774.3540\n",
      "Epoch 12/100\n",
      "500/500 [==============================] - 0s 769us/step - loss: 25.3632 - mse: 4346.6792\n",
      "Epoch 13/100\n",
      "500/500 [==============================] - 0s 755us/step - loss: 19.3213 - mse: 2852.2874\n",
      "Epoch 14/100\n",
      "500/500 [==============================] - 0s 674us/step - loss: 14.9893 - mse: 1923.3125\n",
      "Epoch 15/100\n",
      "500/500 [==============================] - 0s 752us/step - loss: 12.1736 - mse: 1389.1188\n",
      "Epoch 16/100\n",
      "500/500 [==============================] - 0s 688us/step - loss: 10.4282 - mse: 1089.1886\n",
      "Epoch 17/100\n",
      "500/500 [==============================] - 0s 736us/step - loss: 9.1830 - mse: 893.6516\n",
      "Epoch 18/100\n",
      "500/500 [==============================] - 0s 731us/step - loss: 8.1976 - mse: 746.6208\n",
      "Epoch 19/100\n",
      "500/500 [==============================] - 0s 787us/step - loss: 7.3724 - mse: 631.1767\n",
      "Epoch 20/100\n",
      "500/500 [==============================] - 0s 724us/step - loss: 6.6596 - mse: 538.2954\n",
      "Epoch 21/100\n",
      "500/500 [==============================] - 0s 617us/step - loss: 6.0369 - mse: 460.8474\n",
      "Epoch 22/100\n",
      "500/500 [==============================] - 0s 669us/step - loss: 5.4732 - mse: 396.0276\n",
      "Epoch 23/100\n",
      "500/500 [==============================] - 0s 693us/step - loss: 4.9992 - mse: 340.8372\n",
      "Epoch 24/100\n",
      "500/500 [==============================] - 0s 636us/step - loss: 4.5499 - mse: 294.1333\n",
      "Epoch 25/100\n",
      "500/500 [==============================] - 0s 656us/step - loss: 4.1619 - mse: 254.4902\n",
      "Epoch 26/100\n",
      "500/500 [==============================] - 0s 772us/step - loss: 3.8059 - mse: 220.4841\n",
      "Epoch 27/100\n",
      "500/500 [==============================] - 0s 718us/step - loss: 3.4747 - mse: 191.0261\n",
      "Epoch 28/100\n",
      "500/500 [==============================] - 0s 673us/step - loss: 3.1906 - mse: 165.7254\n",
      "Epoch 29/100\n",
      "500/500 [==============================] - 0s 694us/step - loss: 2.9207 - mse: 143.8690\n",
      "Epoch 30/100\n",
      "500/500 [==============================] - 0s 706us/step - loss: 2.6609 - mse: 125.0659\n",
      "Epoch 31/100\n",
      "500/500 [==============================] - 0s 647us/step - loss: 2.4467 - mse: 108.8301\n",
      "Epoch 32/100\n",
      "500/500 [==============================] - 0s 622us/step - loss: 2.2332 - mse: 94.7103\n",
      "Epoch 33/100\n",
      "500/500 [==============================] - 0s 608us/step - loss: 2.0611 - mse: 82.5840\n",
      "Epoch 34/100\n",
      "500/500 [==============================] - 0s 900us/step - loss: 1.8876 - mse: 72.0092\n",
      "Epoch 35/100\n",
      "500/500 [==============================] - 0s 674us/step - loss: 1.7639 - mse: 62.8481\n",
      "Epoch 36/100\n",
      "500/500 [==============================] - 0s 723us/step - loss: 1.6257 - mse: 55.0102\n",
      "Epoch 37/100\n",
      "500/500 [==============================] - 0s 699us/step - loss: 1.4920 - mse: 48.1597\n",
      "Epoch 38/100\n",
      "500/500 [==============================] - 0s 703us/step - loss: 1.3625 - mse: 42.1358\n",
      "Epoch 39/100\n",
      "500/500 [==============================] - 0s 683us/step - loss: 1.2683 - mse: 36.9397\n",
      "Epoch 40/100\n",
      "500/500 [==============================] - 0s 736us/step - loss: 1.1683 - mse: 32.3460\n",
      "Epoch 41/100\n",
      "500/500 [==============================] - 0s 667us/step - loss: 1.0830 - mse: 28.3181\n",
      "Epoch 42/100\n",
      "500/500 [==============================] - 0s 749us/step - loss: 0.9979 - mse: 24.8349\n",
      "Epoch 43/100\n",
      "500/500 [==============================] - 0s 698us/step - loss: 0.9207 - mse: 21.8250\n",
      "Epoch 44/100\n",
      "500/500 [==============================] - 0s 725us/step - loss: 0.8653 - mse: 19.1670\n",
      "Epoch 45/100\n",
      "500/500 [==============================] - 0s 714us/step - loss: 0.8063 - mse: 16.8189\n",
      "Epoch 46/100\n",
      "500/500 [==============================] - 0s 701us/step - loss: 0.7521 - mse: 14.7855\n",
      "Epoch 47/100\n",
      "500/500 [==============================] - 0s 706us/step - loss: 0.6691 - mse: 13.0274\n",
      "Epoch 48/100\n",
      "500/500 [==============================] - 0s 696us/step - loss: 0.6402 - mse: 11.4597\n",
      "Epoch 49/100\n",
      "500/500 [==============================] - 0s 681us/step - loss: 0.5866 - mse: 10.1190\n",
      "Epoch 50/100\n",
      "500/500 [==============================] - 0s 675us/step - loss: 0.5544 - mse: 8.9181\n",
      "Epoch 51/100\n",
      "500/500 [==============================] - 0s 699us/step - loss: 0.5077 - mse: 7.8440\n",
      "Epoch 52/100\n",
      "500/500 [==============================] - 0s 682us/step - loss: 0.4720 - mse: 6.9109\n",
      "Epoch 53/100\n",
      "500/500 [==============================] - 0s 641us/step - loss: 0.4597 - mse: 6.1063\n",
      "Epoch 54/100\n",
      "500/500 [==============================] - 0s 743us/step - loss: 0.4156 - mse: 5.3965\n",
      "Epoch 55/100\n",
      "500/500 [==============================] - 0s 734us/step - loss: 0.3895 - mse: 4.7792\n",
      "Epoch 56/100\n",
      "500/500 [==============================] - 0s 678us/step - loss: 0.3733 - mse: 4.2394\n",
      "Epoch 57/100\n",
      "500/500 [==============================] - 0s 671us/step - loss: 0.3397 - mse: 3.7591\n",
      "Epoch 58/100\n",
      "500/500 [==============================] - 0s 660us/step - loss: 0.3105 - mse: 3.3363\n",
      "Epoch 59/100\n",
      "500/500 [==============================] - 0s 685us/step - loss: 0.2944 - mse: 2.9662\n",
      "Epoch 60/100\n",
      "500/500 [==============================] - 0s 692us/step - loss: 0.2798 - mse: 2.6480\n",
      "Epoch 61/100\n",
      "500/500 [==============================] - 0s 667us/step - loss: 0.2682 - mse: 2.3549\n",
      "Epoch 62/100\n",
      "500/500 [==============================] - 0s 682us/step - loss: 0.2575 - mse: 2.1057\n",
      "Epoch 63/100\n",
      "500/500 [==============================] - 0s 694us/step - loss: 0.2459 - mse: 1.8810\n",
      "Epoch 64/100\n",
      "500/500 [==============================] - 0s 619us/step - loss: 0.2246 - mse: 1.6816\n",
      "Epoch 65/100\n",
      "500/500 [==============================] - 0s 613us/step - loss: 0.2076 - mse: 1.5025\n",
      "Epoch 66/100\n",
      "500/500 [==============================] - 0s 653us/step - loss: 0.2057 - mse: 1.3481\n",
      "Epoch 67/100\n",
      "500/500 [==============================] - 0s 621us/step - loss: 0.1927 - mse: 1.2060\n",
      "Epoch 68/100\n",
      "500/500 [==============================] - 0s 703us/step - loss: 0.1956 - mse: 1.0824\n",
      "Epoch 69/100\n",
      "500/500 [==============================] - 0s 637us/step - loss: 0.1881 - mse: 0.9732\n",
      "Epoch 70/100\n",
      "500/500 [==============================] - 0s 672us/step - loss: 0.1683 - mse: 0.8725\n",
      "Epoch 71/100\n",
      "500/500 [==============================] - 0s 655us/step - loss: 0.1570 - mse: 0.7805\n",
      "Epoch 72/100\n",
      "500/500 [==============================] - 0s 653us/step - loss: 0.1658 - mse: 0.7041\n",
      "Epoch 73/100\n",
      "500/500 [==============================] - 0s 725us/step - loss: 0.1561 - mse: 0.6329\n",
      "Epoch 74/100\n",
      "500/500 [==============================] - 0s 639us/step - loss: 0.1482 - mse: 0.5664\n",
      "Epoch 75/100\n",
      "500/500 [==============================] - 0s 640us/step - loss: 0.1412 - mse: 0.5080\n",
      "Epoch 76/100\n",
      "500/500 [==============================] - 0s 675us/step - loss: 0.1441 - mse: 0.4597\n",
      "Epoch 77/100\n",
      "500/500 [==============================] - 0s 687us/step - loss: 0.1495 - mse: 0.4161\n"
     ]
    }
   ],
   "source": [
    "# make NN\n",
    "l = inputs = layers.Input(shape=(2,))\n",
    "# Hidden layers\n",
    "l = layers.Dense(4, activation=\"relu\")(l)\n",
    "l = layers.Dense(4, activation=\"relu\")(l)\n",
    "# Output layer\n",
    "l = outputs = layers.Dense(1)(l)\n",
    "\n",
    "\n",
    "model = keras.Model(inputs=inputs, outputs=outputs)\n",
    "\n",
    "model.compile(optimizer=keras.optimizers.Adam(learning_rate=1e-4),\n",
    "              loss=keras.losses.mae,\n",
    "              metrics=[\"mse\"])\n",
    "\n",
    "x=np.random.randint(0, 1000, size=(50000,2))\n",
    "y=(x[:,0]+x[:,1])\n",
    "\n",
    "hist = model.fit(x,y, epochs=100, batch_size=100,\n",
    "                 callbacks=[tf.keras.callbacks.EarlyStopping(monitor=\"loss\", patience=2,)],)\n",
    "\n"
   ]
  },
  {
   "cell_type": "code",
   "execution_count": 3,
   "metadata": {},
   "outputs": [
    {
     "data": {
      "text/plain": [
       "<AxesSubplot:>"
      ]
     },
     "execution_count": 3,
     "metadata": {},
     "output_type": "execute_result"
    },
    {
     "data": {
      "image/png": "[encoded data removed]",
      "text/plain": [
       "<Figure size 432x288 with 1 Axes>"
      ]
     },
     "metadata": {
      "needs_background": "light"
     },
     "output_type": "display_data"
    }
   ],
   "source": [
    "loss = hist.history['loss']\n",
    "sns.lineplot(x=np.arange(len(loss)),y=loss)"
   ]
  },
  {
   "cell_type": "markdown",
   "metadata": {},
   "source": [
    "##  evaluate the model"
   ]
  },
  {
   "cell_type": "code",
   "execution_count": 4,
   "metadata": {},
   "outputs": [
    {
     "name": "stdout",
     "output_type": "stream",
     "text": [
      "Model: \"model\"\n",
      "_________________________________________________________________\n",
      "Layer (type)                 Output Shape              Param #   \n",
      "=================================================================\n",
      "input_1 (InputLayer)         [(None, 2)]               0         \n",
      "_________________________________________________________________\n",
      "dense (Dense)                (None, 4)                 12        \n",
      "_________________________________________________________________\n",
      "dense_1 (Dense)              (None, 4)                 20        \n",
      "_________________________________________________________________\n",
      "dense_2 (Dense)              (None, 1)                 5         \n",
      "=================================================================\n",
      "Total params: 37\n",
      "Trainable params: 37\n",
      "Non-trainable params: 0\n",
      "_________________________________________________________________\n"
     ]
    }
   ],
   "source": [
    "model.summary()"
   ]
  },
  {
   "cell_type": "code",
   "execution_count": 5,
   "metadata": {},
   "outputs": [
    {
     "name": "stdout",
     "output_type": "stream",
     "text": [
      "1563/1563 [==============================] - 1s 607us/step - loss: 0.0934 - mse: 0.3708\n"
     ]
    },
    {
     "data": {
      "text/plain": [
       "{'loss': 0.09341710805892944, 'mse': 0.3707934319972992}"
      ]
     },
     "execution_count": 5,
     "metadata": {},
     "output_type": "execute_result"
    }
   ],
   "source": [
    "x=np.random.randint(0, 1000, size=(50000,2))\n",
    "\n",
    "y=(x[:,0]+x[:,1])\n",
    "model.evaluate(x,y,return_dict=True)"
   ]
  },
  {
   "cell_type": "markdown",
   "metadata": {},
   "source": [
    "## continue training with smaller learning rate, to improve percision"
   ]
  },
  {
   "cell_type": "code",
   "execution_count": 6,
   "metadata": {},
   "outputs": [
    {
     "name": "stdout",
     "output_type": "stream",
     "text": [
      "Epoch 1/100\n",
      "500/500 [==============================] - 0s 653us/step - loss: 0.0693 - mae: 0.0693\n",
      "Epoch 2/100\n",
      "500/500 [==============================] - 0s 775us/step - loss: 0.0706 - mae: 0.0706\n",
      "Epoch 3/100\n",
      "500/500 [==============================] - 0s 712us/step - loss: 0.0681 - mae: 0.0681\n",
      "Epoch 4/100\n",
      "500/500 [==============================] - 0s 658us/step - loss: 0.0678 - mae: 0.0678\n",
      "Epoch 5/100\n",
      "500/500 [==============================] - 0s 730us/step - loss: 0.0675 - mae: 0.0675\n",
      "Epoch 6/100\n",
      "500/500 [==============================] - 0s 657us/step - loss: 0.0680 - mae: 0.0680\n",
      "Epoch 7/100\n",
      "500/500 [==============================] - 0s 746us/step - loss: 0.0675 - mae: 0.0675\n",
      "Epoch 8/100\n",
      "500/500 [==============================] - 0s 766us/step - loss: 0.0664 - mae: 0.0664\n",
      "Epoch 9/100\n",
      "500/500 [==============================] - 0s 681us/step - loss: 0.0672 - mae: 0.0672\n",
      "Epoch 10/100\n",
      "500/500 [==============================] - 0s 670us/step - loss: 0.0644 - mae: 0.0644\n",
      "Epoch 11/100\n",
      "500/500 [==============================] - 0s 678us/step - loss: 0.0658 - mae: 0.0658\n",
      "Epoch 12/100\n",
      "500/500 [==============================] - 0s 631us/step - loss: 0.0645 - mae: 0.0645\n",
      "Epoch 1/100\n",
      "500/500 [==============================] - 0s 668us/step - loss: 0.0590 - mae: 0.0590\n",
      "Epoch 2/100\n",
      "500/500 [==============================] - 0s 641us/step - loss: 0.0589 - mae: 0.0589\n",
      "Epoch 3/100\n",
      "500/500 [==============================] - 0s 667us/step - loss: 0.0589 - mae: 0.0589\n",
      "Epoch 4/100\n",
      "500/500 [==============================] - 0s 659us/step - loss: 0.0589 - mae: 0.0589\n",
      "Epoch 5/100\n",
      "500/500 [==============================] - 0s 633us/step - loss: 0.0589 - mae: 0.0589\n",
      "Epoch 6/100\n",
      "500/500 [==============================] - 0s 698us/step - loss: 0.0589 - mae: 0.0589\n",
      "Epoch 7/100\n",
      "500/500 [==============================] - 0s 899us/step - loss: 0.0589 - mae: 0.0589\n",
      "Epoch 8/100\n",
      "500/500 [==============================] - 0s 770us/step - loss: 0.0588 - mae: 0.0588\n",
      "Epoch 9/100\n",
      "500/500 [==============================] - 0s 705us/step - loss: 0.0588 - mae: 0.0588\n",
      "Epoch 10/100\n",
      "500/500 [==============================] - 0s 796us/step - loss: 0.0588 - mae: 0.0588\n",
      "Epoch 11/100\n",
      "500/500 [==============================] - 0s 675us/step - loss: 0.0588 - mae: 0.0588\n",
      "Epoch 12/100\n",
      "500/500 [==============================] - 0s 671us/step - loss: 0.0588 - mae: 0.0588\n",
      "Epoch 13/100\n",
      "500/500 [==============================] - 0s 660us/step - loss: 0.0588 - mae: 0.0588\n",
      "Epoch 14/100\n",
      "500/500 [==============================] - 0s 794us/step - loss: 0.0588 - mae: 0.0588\n",
      "Epoch 15/100\n",
      "500/500 [==============================] - 0s 689us/step - loss: 0.0588 - mae: 0.0588\n",
      "Epoch 16/100\n",
      "500/500 [==============================] - 0s 672us/step - loss: 0.0588 - mae: 0.0588\n",
      "Epoch 17/100\n",
      "500/500 [==============================] - 0s 836us/step - loss: 0.0588 - mae: 0.0588\n",
      "Epoch 18/100\n",
      "500/500 [==============================] - 0s 800us/step - loss: 0.0588 - mae: 0.0588\n",
      "Epoch 19/100\n",
      "500/500 [==============================] - 0s 759us/step - loss: 0.0587 - mae: 0.0587\n",
      "Epoch 20/100\n",
      "500/500 [==============================] - 0s 750us/step - loss: 0.0587 - mae: 0.0587\n",
      "Epoch 21/100\n",
      "500/500 [==============================] - 0s 660us/step - loss: 0.0587 - mae: 0.0587\n",
      "Epoch 22/100\n",
      "500/500 [==============================] - 0s 669us/step - loss: 0.0587 - mae: 0.0587\n",
      "Epoch 23/100\n",
      "500/500 [==============================] - 0s 712us/step - loss: 0.0587 - mae: 0.0587\n",
      "Epoch 24/100\n",
      "500/500 [==============================] - 0s 633us/step - loss: 0.0587 - mae: 0.0587\n",
      "Epoch 25/100\n",
      "500/500 [==============================] - 0s 637us/step - loss: 0.0587 - mae: 0.0587\n",
      "Epoch 26/100\n",
      "500/500 [==============================] - 0s 709us/step - loss: 0.0587 - mae: 0.0587\n",
      "Epoch 27/100\n",
      "500/500 [==============================] - 0s 941us/step - loss: 0.0587 - mae: 0.0587\n",
      "Epoch 28/100\n",
      "500/500 [==============================] - 0s 823us/step - loss: 0.0587 - mae: 0.0587\n",
      "Epoch 29/100\n",
      "500/500 [==============================] - 0s 790us/step - loss: 0.0587 - mae: 0.0587\n",
      "Epoch 30/100\n",
      "500/500 [==============================] - 0s 784us/step - loss: 0.0586 - mae: 0.0586\n",
      "Epoch 31/100\n",
      "500/500 [==============================] - 0s 828us/step - loss: 0.0586 - mae: 0.0586\n",
      "Epoch 32/100\n",
      "500/500 [==============================] - 0s 799us/step - loss: 0.0586 - mae: 0.0586\n",
      "Epoch 33/100\n",
      "500/500 [==============================] - 0s 792us/step - loss: 0.0586 - mae: 0.0586\n",
      "Epoch 34/100\n",
      "500/500 [==============================] - 0s 797us/step - loss: 0.0586 - mae: 0.0586\n",
      "Epoch 35/100\n",
      "500/500 [==============================] - 0s 815us/step - loss: 0.0586 - mae: 0.0586\n",
      "Epoch 36/100\n",
      "500/500 [==============================] - 0s 800us/step - loss: 0.0586 - mae: 0.0586\n",
      "Epoch 37/100\n",
      "500/500 [==============================] - 0s 685us/step - loss: 0.0586 - mae: 0.0586\n",
      "Epoch 38/100\n",
      "500/500 [==============================] - 0s 663us/step - loss: 0.0586 - mae: 0.0586\n",
      "Epoch 39/100\n",
      "500/500 [==============================] - 0s 652us/step - loss: 0.0586 - mae: 0.0586\n",
      "Epoch 40/100\n",
      "500/500 [==============================] - 0s 638us/step - loss: 0.0586 - mae: 0.0586\n",
      "Epoch 41/100\n",
      "500/500 [==============================] - 0s 687us/step - loss: 0.0586 - mae: 0.0586\n",
      "Epoch 42/100\n",
      "500/500 [==============================] - 0s 690us/step - loss: 0.0585 - mae: 0.0585\n",
      "Epoch 43/100\n",
      "500/500 [==============================] - 0s 658us/step - loss: 0.0585 - mae: 0.0585\n",
      "Epoch 44/100\n",
      "500/500 [==============================] - 0s 781us/step - loss: 0.0585 - mae: 0.0585\n",
      "Epoch 45/100\n",
      "500/500 [==============================] - 0s 889us/step - loss: 0.0585 - mae: 0.0585\n",
      "Epoch 46/100\n",
      "500/500 [==============================] - 0s 708us/step - loss: 0.0585 - mae: 0.0585\n",
      "Epoch 47/100\n",
      "500/500 [==============================] - 0s 750us/step - loss: 0.0585 - mae: 0.0585\n",
      "Epoch 48/100\n",
      "500/500 [==============================] - 0s 665us/step - loss: 0.0585 - mae: 0.0585\n",
      "Epoch 49/100\n",
      "500/500 [==============================] - 0s 751us/step - loss: 0.0585 - mae: 0.0585\n",
      "Epoch 50/100\n",
      "500/500 [==============================] - 0s 696us/step - loss: 0.0585 - mae: 0.0585\n",
      "Epoch 51/100\n",
      "500/500 [==============================] - 0s 625us/step - loss: 0.0585 - mae: 0.0585\n",
      "Epoch 52/100\n",
      "500/500 [==============================] - 0s 789us/step - loss: 0.0584 - mae: 0.0584 0s - loss: 0.0569 - mae: 0.0\n",
      "Epoch 53/100\n",
      "500/500 [==============================] - 0s 660us/step - loss: 0.0584 - mae: 0.0584\n",
      "Epoch 54/100\n",
      "500/500 [==============================] - 0s 617us/step - loss: 0.0584 - mae: 0.0584\n",
      "Epoch 55/100\n",
      "500/500 [==============================] - 0s 656us/step - loss: 0.0584 - mae: 0.0584\n",
      "Epoch 56/100\n",
      "500/500 [==============================] - 0s 708us/step - loss: 0.0584 - mae: 0.0584\n",
      "Epoch 57/100\n",
      "500/500 [==============================] - 0s 638us/step - loss: 0.0584 - mae: 0.0584\n",
      "Epoch 58/100\n",
      "500/500 [==============================] - 0s 748us/step - loss: 0.0584 - mae: 0.0584\n",
      "Epoch 59/100\n",
      "500/500 [==============================] - 0s 702us/step - loss: 0.0584 - mae: 0.0584\n",
      "Epoch 60/100\n",
      "500/500 [==============================] - 0s 688us/step - loss: 0.0584 - mae: 0.0584\n",
      "Epoch 61/100\n",
      "500/500 [==============================] - 0s 669us/step - loss: 0.0584 - mae: 0.0584\n",
      "Epoch 62/100\n",
      "500/500 [==============================] - 0s 662us/step - loss: 0.0584 - mae: 0.0584\n",
      "Epoch 63/100\n",
      "500/500 [==============================] - 0s 684us/step - loss: 0.0584 - mae: 0.0584\n",
      "Epoch 64/100\n",
      "500/500 [==============================] - 0s 661us/step - loss: 0.0583 - mae: 0.0583\n",
      "Epoch 65/100\n",
      "500/500 [==============================] - 0s 644us/step - loss: 0.0583 - mae: 0.0583\n",
      "Epoch 66/100\n",
      "500/500 [==============================] - 0s 745us/step - loss: 0.0583 - mae: 0.0583\n",
      "Epoch 67/100\n",
      "500/500 [==============================] - 0s 800us/step - loss: 0.0583 - mae: 0.0583\n",
      "Epoch 68/100\n",
      "500/500 [==============================] - 0s 731us/step - loss: 0.0583 - mae: 0.0583\n",
      "Epoch 69/100\n",
      "500/500 [==============================] - 0s 885us/step - loss: 0.0583 - mae: 0.0583\n",
      "Epoch 70/100\n",
      "500/500 [==============================] - 0s 879us/step - loss: 0.0583 - mae: 0.0583\n",
      "Epoch 71/100\n"
     ]
    },
    {
     "name": "stdout",
     "output_type": "stream",
     "text": [
      "500/500 [==============================] - 0s 851us/step - loss: 0.0583 - mae: 0.0583\n",
      "Epoch 72/100\n",
      "500/500 [==============================] - 0s 751us/step - loss: 0.0583 - mae: 0.0583\n",
      "Epoch 73/100\n",
      "500/500 [==============================] - 0s 854us/step - loss: 0.0583 - mae: 0.0583\n",
      "Epoch 74/100\n",
      "500/500 [==============================] - 0s 900us/step - loss: 0.0583 - mae: 0.0583\n",
      "Epoch 75/100\n",
      "500/500 [==============================] - 0s 737us/step - loss: 0.0583 - mae: 0.0583\n",
      "Epoch 76/100\n",
      "500/500 [==============================] - 0s 866us/step - loss: 0.0582 - mae: 0.0582\n",
      "Epoch 77/100\n",
      "500/500 [==============================] - 0s 842us/step - loss: 0.0582 - mae: 0.0582\n",
      "Epoch 78/100\n",
      "500/500 [==============================] - 1s 1ms/step - loss: 0.0582 - mae: 0.0582\n",
      "Epoch 79/100\n",
      "500/500 [==============================] - 0s 797us/step - loss: 0.0582 - mae: 0.0582\n",
      "Epoch 80/100\n",
      "500/500 [==============================] - 0s 749us/step - loss: 0.0582 - mae: 0.0582\n",
      "Epoch 81/100\n",
      "500/500 [==============================] - 0s 776us/step - loss: 0.0582 - mae: 0.0582\n",
      "Epoch 82/100\n",
      "500/500 [==============================] - 0s 684us/step - loss: 0.0582 - mae: 0.0582\n",
      "Epoch 83/100\n",
      "500/500 [==============================] - 0s 721us/step - loss: 0.0582 - mae: 0.0582\n",
      "Epoch 84/100\n",
      "500/500 [==============================] - 0s 730us/step - loss: 0.0582 - mae: 0.0582\n",
      "Epoch 85/100\n",
      "500/500 [==============================] - 0s 666us/step - loss: 0.0582 - mae: 0.0582\n",
      "Epoch 86/100\n",
      "500/500 [==============================] - 0s 676us/step - loss: 0.0582 - mae: 0.0582\n",
      "Epoch 87/100\n",
      "500/500 [==============================] - 0s 681us/step - loss: 0.0581 - mae: 0.0581\n",
      "Epoch 88/100\n",
      "500/500 [==============================] - 0s 631us/step - loss: 0.0581 - mae: 0.0581\n",
      "Epoch 89/100\n",
      "500/500 [==============================] - 0s 664us/step - loss: 0.0581 - mae: 0.0581\n",
      "Epoch 90/100\n",
      "500/500 [==============================] - 0s 744us/step - loss: 0.0581 - mae: 0.0581\n",
      "Epoch 91/100\n",
      "500/500 [==============================] - 0s 762us/step - loss: 0.0581 - mae: 0.0581\n",
      "Epoch 92/100\n",
      "500/500 [==============================] - 0s 674us/step - loss: 0.0581 - mae: 0.0581\n",
      "Epoch 93/100\n",
      "500/500 [==============================] - 0s 658us/step - loss: 0.0581 - mae: 0.0581\n",
      "Epoch 94/100\n",
      "500/500 [==============================] - 0s 619us/step - loss: 0.0581 - mae: 0.0581\n",
      "Epoch 95/100\n",
      "500/500 [==============================] - 0s 652us/step - loss: 0.0581 - mae: 0.0581\n",
      "Epoch 96/100\n",
      "500/500 [==============================] - 0s 716us/step - loss: 0.0581 - mae: 0.0581\n",
      "Epoch 97/100\n",
      "500/500 [==============================] - 0s 632us/step - loss: 0.0581 - mae: 0.0581\n",
      "Epoch 98/100\n",
      "500/500 [==============================] - 0s 714us/step - loss: 0.0581 - mae: 0.0581\n",
      "Epoch 99/100\n",
      "500/500 [==============================] - 0s 785us/step - loss: 0.0580 - mae: 0.0580\n",
      "Epoch 100/100\n",
      "500/500 [==============================] - 0s 672us/step - loss: 0.0580 - mae: 0.0580\n"
     ]
    }
   ],
   "source": [
    "for learning_rate in [1e-5, 1e-7]:\n",
    "    model.compile(optimizer=keras.optimizers.Adam(learning_rate=learning_rate),\n",
    "                  loss=keras.losses.mae,\n",
    "                  metrics=[\"mae\"])\n",
    "\n",
    "    x=np.random.randint(0, 1000, size=(50000,2))\n",
    "    y=(x[:,0]+x[:,1])\n",
    "\n",
    "\n",
    "    hist = model.fit(x,y, epochs=100, batch_size=100, \n",
    "                     callbacks=[tf.keras.callbacks.EarlyStopping(monitor=\"loss\", patience=2,)],)\n"
   ]
  },
  {
   "cell_type": "markdown",
   "metadata": {},
   "source": [
    "### evaluate again"
   ]
  },
  {
   "cell_type": "code",
   "execution_count": 7,
   "metadata": {},
   "outputs": [
    {
     "name": "stdout",
     "output_type": "stream",
     "text": [
      "1563/1563 [==============================] - 1s 630us/step - loss: 0.0594 - mae: 0.0594\n"
     ]
    },
    {
     "data": {
      "text/plain": [
       "{'loss': 0.05942995473742485, 'mae': 0.05942995473742485}"
      ]
     },
     "execution_count": 7,
     "metadata": {},
     "output_type": "execute_result"
    }
   ],
   "source": [
    "x=np.random.randint(0, 1000, size=(50000,2))\n",
    "\n",
    "y=(x[:,0]+x[:,1])\n",
    "model.evaluate(x,y, return_dict=True)"
   ]
  },
  {
   "cell_type": "markdown",
   "metadata": {},
   "source": [
    "###  examples"
   ]
  },
  {
   "cell_type": "code",
   "execution_count": 8,
   "metadata": {
    "scrolled": true
   },
   "outputs": [
    {
     "data": {
      "text/plain": [
       "array([[20226.283  ],\n",
       "       [  104.99999],\n",
       "       [  105.1    ]], dtype=float32)"
      ]
     },
     "execution_count": 8,
     "metadata": {},
     "output_type": "execute_result"
    }
   ],
   "source": [
    "model.predict(np.array([[-250,20000],\n",
    "                        [50,55],\n",
    "                        [100, 5.1]]))"
   ]
  },
  {
   "cell_type": "code",
   "execution_count": null,
   "metadata": {},
   "outputs": [],
   "source": []
  },
  {
   "cell_type": "code",
   "execution_count": null,
   "metadata": {},
   "outputs": [],
   "source": []
  },
  {
   "cell_type": "markdown",
   "metadata": {},
   "source": [
    "# Let detect digits"
   ]
  },
  {
   "cell_type": "code",
   "execution_count": 9,
   "metadata": {},
   "outputs": [],
   "source": [
    "from sklearn.model_selection import  train_test_split\n",
    "from sklearn.preprocessing import OneHotEncoder\n",
    "import matplotlib.pyplot as plt\n",
    "\n",
    "from sklearn.metrics import  confusion_matrix"
   ]
  },
  {
   "cell_type": "code",
   "execution_count": 10,
   "metadata": {},
   "outputs": [],
   "source": [
    "(x_train, y_train), (x_test, y_test) = tf.keras.datasets.mnist.load_data()\n"
   ]
  },
  {
   "cell_type": "code",
   "execution_count": 11,
   "metadata": {
    "scrolled": true
   },
   "outputs": [
    {
     "data": {
      "text/plain": [
       "((28, 28), array([5, 0, 4, ..., 5, 6, 8], dtype=uint8))"
      ]
     },
     "execution_count": 11,
     "metadata": {},
     "output_type": "execute_result"
    }
   ],
   "source": [
    "x_train[0].shape, y_train"
   ]
  },
  {
   "cell_type": "code",
   "execution_count": 12,
   "metadata": {
    "scrolled": true
   },
   "outputs": [
    {
     "data": {
      "image/png": "[encoded data removed]",
      "text/plain": [
       "<Figure size 432x288 with 1 Axes>"
      ]
     },
     "metadata": {
      "needs_background": "light"
     },
     "output_type": "display_data"
    },
    {
     "data": {
      "image/png": "[encoded data removed]",
      "text/plain": [
       "<Figure size 432x288 with 1 Axes>"
      ]
     },
     "metadata": {
      "needs_background": "light"
     },
     "output_type": "display_data"
    },
    {
     "data": {
      "image/png": "[encoded data removed]",
      "text/plain": [
       "<Figure size 432x288 with 1 Axes>"
      ]
     },
     "metadata": {
      "needs_background": "light"
     },
     "output_type": "display_data"
    },
    {
     "data": {
      "image/png": "[encoded data removed]",
      "text/plain": [
       "<Figure size 432x288 with 1 Axes>"
      ]
     },
     "metadata": {
      "needs_background": "light"
     },
     "output_type": "display_data"
    },
    {
     "data": {
      "image/png": "[encoded data removed]",
      "text/plain": [
       "<Figure size 432x288 with 1 Axes>"
      ]
     },
     "metadata": {
      "needs_background": "light"
     },
     "output_type": "display_data"
    },
    {
     "data": {
      "text/plain": [
       "[None, None, None, None, None]"
      ]
     },
     "execution_count": 12,
     "metadata": {},
     "output_type": "execute_result"
    }
   ],
   "source": [
    "[plt.imshow(x_train[i]) and plt.show() for i in range(5)]"
   ]
  },
  {
   "cell_type": "code",
   "execution_count": 13,
   "metadata": {},
   "outputs": [
    {
     "data": {
      "text/plain": [
       "((60000, 10), array([0., 0., 0., 0., 0., 1., 0., 0., 0., 0.]))"
      ]
     },
     "execution_count": 13,
     "metadata": {},
     "output_type": "execute_result"
    }
   ],
   "source": [
    "\n",
    "x_train = x_train/255\n",
    "y_encoder = OneHotEncoder()\n",
    "y_train = y_encoder.fit_transform(y_train.reshape(-1,1)).toarray()\n",
    "y_train.shape, y_train[0]"
   ]
  },
  {
   "cell_type": "code",
   "execution_count": null,
   "metadata": {},
   "outputs": [],
   "source": []
  },
  {
   "cell_type": "code",
   "execution_count": 14,
   "metadata": {},
   "outputs": [],
   "source": [
    "l = inputs = layers.Input(shape=(28,28,1))\n",
    "l = layers.Conv2D(32, kernel_size=(3, 3), activation=\"relu\")(l)\n",
    "l = layers.MaxPooling2D(pool_size=(3, 3))(l)\n",
    "l = layers.Flatten()(l)\n",
    "outputs = layers.Dense(10, activation=\"softmax\")(l)"
   ]
  },
  {
   "cell_type": "code",
   "execution_count": 15,
   "metadata": {},
   "outputs": [
    {
     "name": "stdout",
     "output_type": "stream",
     "text": [
      "Model: \"model_1\"\n",
      "_________________________________________________________________\n",
      "Layer (type)                 Output Shape              Param #   \n",
      "=================================================================\n",
      "input_2 (InputLayer)         [(None, 28, 28, 1)]       0         \n",
      "_________________________________________________________________\n",
      "conv2d (Conv2D)              (None, 26, 26, 32)        320       \n",
      "_________________________________________________________________\n",
      "max_pooling2d (MaxPooling2D) (None, 8, 8, 32)          0         \n",
      "_________________________________________________________________\n",
      "flatten (Flatten)            (None, 2048)              0         \n",
      "_________________________________________________________________\n",
      "dense_3 (Dense)              (None, 10)                20490     \n",
      "=================================================================\n",
      "Total params: 20,810\n",
      "Trainable params: 20,810\n",
      "Non-trainable params: 0\n",
      "_________________________________________________________________\n"
     ]
    }
   ],
   "source": [
    "# Build the model\n",
    "model = keras.Model(inputs=inputs, outputs=outputs)\n",
    "model.summary()"
   ]
  },
  {
   "cell_type": "code",
   "execution_count": 16,
   "metadata": {},
   "outputs": [
    {
     "name": "stdout",
     "output_type": "stream",
     "text": [
      "Epoch 1/100\n",
      "1875/1875 [==============================] - 9s 5ms/step - loss: 0.2524 - categorical_accuracy: 0.9289\n",
      "Epoch 2/100\n",
      "1875/1875 [==============================] - 9s 5ms/step - loss: 0.0926 - categorical_accuracy: 0.9728\n",
      "Epoch 3/100\n",
      "1875/1875 [==============================] - 10s 5ms/step - loss: 0.0723 - categorical_accuracy: 0.9787\n",
      "Epoch 4/100\n",
      "1875/1875 [==============================] - 13s 7ms/step - loss: 0.0606 - categorical_accuracy: 0.9813\n",
      "Epoch 5/100\n",
      "1875/1875 [==============================] - 14s 8ms/step - loss: 0.0536 - categorical_accuracy: 0.9836\n",
      "Epoch 6/100\n",
      "1875/1875 [==============================] - 14s 8ms/step - loss: 0.0473 - categorical_accuracy: 0.9856\n",
      "Epoch 7/100\n",
      "1875/1875 [==============================] - 12s 6ms/step - loss: 0.0426 - categorical_accuracy: 0.9872\n",
      "Epoch 8/100\n",
      "1875/1875 [==============================] - 10s 5ms/step - loss: 0.0382 - categorical_accuracy: 0.9885\n",
      "Epoch 9/100\n",
      "1875/1875 [==============================] - 10s 5ms/step - loss: 0.0347 - categorical_accuracy: 0.9896\n",
      "Epoch 10/100\n",
      "1875/1875 [==============================] - 10s 5ms/step - loss: 0.0316 - categorical_accuracy: 0.9903\n",
      "Epoch 11/100\n",
      "1875/1875 [==============================] - 9s 5ms/step - loss: 0.0287 - categorical_accuracy: 0.9917\n",
      "Epoch 12/100\n",
      "1875/1875 [==============================] - 10s 5ms/step - loss: 0.0258 - categorical_accuracy: 0.9923\n",
      "Epoch 13/100\n",
      "1875/1875 [==============================] - 10s 5ms/step - loss: 0.0246 - categorical_accuracy: 0.9928\n",
      "Epoch 14/100\n",
      "1875/1875 [==============================] - 10s 5ms/step - loss: 0.0218 - categorical_accuracy: 0.9937\n",
      "Epoch 15/100\n",
      "1875/1875 [==============================] - 10s 5ms/step - loss: 0.0200 - categorical_accuracy: 0.9940\n",
      "Epoch 16/100\n",
      "1875/1875 [==============================] - 9s 5ms/step - loss: 0.0184 - categorical_accuracy: 0.9947\n",
      "Epoch 17/100\n",
      "1875/1875 [==============================] - 9s 5ms/step - loss: 0.0168 - categorical_accuracy: 0.9950\n",
      "Epoch 18/100\n",
      "1875/1875 [==============================] - 9s 5ms/step - loss: 0.0154 - categorical_accuracy: 0.9955\n",
      "Epoch 19/100\n",
      "1875/1875 [==============================] - 9s 5ms/step - loss: 0.0141 - categorical_accuracy: 0.9960\n",
      "Epoch 20/100\n",
      "1875/1875 [==============================] - 10s 5ms/step - loss: 0.0127 - categorical_accuracy: 0.9965\n",
      "Epoch 21/100\n",
      "1875/1875 [==============================] - 10s 5ms/step - loss: 0.0116 - categorical_accuracy: 0.9967\n",
      "Epoch 22/100\n",
      "1875/1875 [==============================] - 10s 5ms/step - loss: 0.0106 - categorical_accuracy: 0.9972\n",
      "Epoch 23/100\n",
      "1875/1875 [==============================] - 10s 6ms/step - loss: 0.0099 - categorical_accuracy: 0.9973\n",
      "Epoch 24/100\n",
      "1875/1875 [==============================] - 10s 6ms/step - loss: 0.0088 - categorical_accuracy: 0.9977\n",
      "Epoch 25/100\n",
      "1875/1875 [==============================] - 10s 5ms/step - loss: 0.0086 - categorical_accuracy: 0.9975\n",
      "Epoch 26/100\n",
      "1875/1875 [==============================] - 11s 6ms/step - loss: 0.0072 - categorical_accuracy: 0.9983\n",
      "Epoch 27/100\n",
      "1875/1875 [==============================] - 10s 5ms/step - loss: 0.0072 - categorical_accuracy: 0.9981\n",
      "Epoch 28/100\n",
      "1875/1875 [==============================] - 10s 5ms/step - loss: 0.0064 - categorical_accuracy: 0.9982\n",
      "Epoch 29/100\n",
      "1875/1875 [==============================] - 10s 5ms/step - loss: 0.0059 - categorical_accuracy: 0.9986\n",
      "Epoch 30/100\n",
      "1875/1875 [==============================] - 10s 5ms/step - loss: 0.0053 - categorical_accuracy: 0.9988\n",
      "Epoch 31/100\n",
      "1875/1875 [==============================] - 9s 5ms/step - loss: 0.0053 - categorical_accuracy: 0.9987\n",
      "Epoch 32/100\n",
      "1875/1875 [==============================] - 9s 5ms/step - loss: 0.0042 - categorical_accuracy: 0.9992\n",
      "Epoch 33/100\n",
      "1875/1875 [==============================] - 9s 5ms/step - loss: 0.0043 - categorical_accuracy: 0.9990\n",
      "Epoch 34/100\n",
      "1875/1875 [==============================] - 10s 5ms/step - loss: 0.0040 - categorical_accuracy: 0.9991\n",
      "Epoch 35/100\n",
      "1875/1875 [==============================] - 10s 5ms/step - loss: 0.0037 - categorical_accuracy: 0.9991\n",
      "Epoch 36/100\n",
      "1875/1875 [==============================] - 12s 6ms/step - loss: 0.0034 - categorical_accuracy: 0.9993\n",
      "Epoch 37/100\n",
      "1875/1875 [==============================] - 10s 5ms/step - loss: 0.0030 - categorical_accuracy: 0.9994\n",
      "Epoch 38/100\n",
      "1875/1875 [==============================] - 10s 5ms/step - loss: 0.0031 - categorical_accuracy: 0.9993\n",
      "Epoch 39/100\n",
      "1875/1875 [==============================] - 9s 5ms/step - loss: 0.0030 - categorical_accuracy: 0.9993\n"
     ]
    },
    {
     "data": {
      "text/plain": [
       "<tensorflow.python.keras.callbacks.History at 0x7feea03c9b70>"
      ]
     },
     "execution_count": 16,
     "metadata": {},
     "output_type": "execute_result"
    }
   ],
   "source": [
    "# Compile and fit\n",
    "model.compile(optimizer=\"adam\",\n",
    "             loss=keras.losses.categorical_crossentropy,\n",
    "             metrics=[keras.metrics.categorical_accuracy, ])\n",
    "\n",
    "model.fit(x_train, y_train, epochs=100, callbacks=[keras.callbacks.EarlyStopping('loss', patience=2)])"
   ]
  },
  {
   "cell_type": "markdown",
   "metadata": {},
   "source": []
  },
  {
   "cell_type": "code",
   "execution_count": null,
   "metadata": {},
   "outputs": [],
   "source": []
  },
  {
   "cell_type": "code",
   "execution_count": 17,
   "metadata": {
    "scrolled": true
   },
   "outputs": [
    {
     "data": {
      "text/plain": [
       "array([[2.2073554e-20, 2.6656112e-17, 2.0565127e-12, ..., 1.0000000e+00,\n",
       "        4.8043343e-16, 4.1608874e-14],\n",
       "       [7.8510284e-18, 9.6656793e-15, 1.0000000e+00, ..., 1.7967490e-31,\n",
       "        2.7359553e-16, 5.9497359e-25],\n",
       "       [7.0195634e-13, 9.9999619e-01, 4.0720489e-11, ..., 3.2139265e-12,\n",
       "        5.9683248e-12, 2.1043911e-15],\n",
       "       ...,\n",
       "       [3.8721960e-28, 4.1610196e-19, 2.2050722e-22, ..., 8.7321689e-10,\n",
       "        6.1796727e-13, 2.8058217e-11],\n",
       "       [6.2990966e-18, 3.7423234e-20, 2.3950975e-15, ..., 1.4210999e-17,\n",
       "        5.9912554e-07, 3.2298237e-15],\n",
       "       [2.5447727e-20, 0.0000000e+00, 2.1017057e-13, ..., 4.0368000e-34,\n",
       "        3.9310812e-17, 7.0083592e-26]], dtype=float32)"
      ]
     },
     "execution_count": 17,
     "metadata": {},
     "output_type": "execute_result"
    }
   ],
   "source": [
    "pred = model.predict(x_test/250)\n",
    "pred"
   ]
  },
  {
   "cell_type": "code",
   "execution_count": 20,
   "metadata": {},
   "outputs": [
    {
     "data": {
      "text/plain": [
       "array([[7],\n",
       "       [2],\n",
       "       [1],\n",
       "       ...,\n",
       "       [4],\n",
       "       [5],\n",
       "       [6]], dtype=uint8)"
      ]
     },
     "execution_count": 20,
     "metadata": {},
     "output_type": "execute_result"
    }
   ],
   "source": [
    "y_pred = y_encoder.inverse_transform(pred.round())\n",
    "y_pred"
   ]
  },
  {
   "cell_type": "code",
   "execution_count": 21,
   "metadata": {},
   "outputs": [
    {
     "data": {
      "text/plain": [
       "array([[ 971,    0,    4,    1,    0,    2,    7,    0,    4,    2],\n",
       "       [   0, 1129,    9,    1,    0,    1,    2,    2,    0,    3],\n",
       "       [   3,    2,  990,    2,    0,    0,    2,    5,    2,    1],\n",
       "       [   0,    1,    0,  992,    0,    8,    0,    0,    0,    1],\n",
       "       [   0,    1,    3,    0,  972,    0,    3,    1,    1,    8],\n",
       "       [   0,    0,    0,    6,    0,  879,    1,    0,    0,    1],\n",
       "       [   2,    0,    1,    0,    3,    2,  940,    0,    0,    0],\n",
       "       [   1,    1,   14,    4,    2,    0,    0, 1016,    4,    4],\n",
       "       [   2,    1,   10,    2,    1,    0,    3,    1,  962,    1],\n",
       "       [   1,    0,    1,    2,    4,    0,    0,    3,    1,  988]])"
      ]
     },
     "execution_count": 21,
     "metadata": {},
     "output_type": "execute_result"
    }
   ],
   "source": [
    "cm = confusion_matrix(y_pred, y_test.reshape(-1,1))\n",
    "cm"
   ]
  },
  {
   "cell_type": "code",
   "execution_count": 22,
   "metadata": {},
   "outputs": [
    {
     "data": {
      "text/plain": [
       "array([[97,  0,  0,  0,  0,  0,  0,  0,  0,  0],\n",
       "       [ 0, 98,  0,  0,  0,  0,  0,  0,  0,  0],\n",
       "       [ 0,  0, 98,  0,  0,  0,  0,  0,  0,  0],\n",
       "       [ 0,  0,  0, 99,  0,  0,  0,  0,  0,  0],\n",
       "       [ 0,  0,  0,  0, 98,  0,  0,  0,  0,  0],\n",
       "       [ 0,  0,  0,  0,  0, 99,  0,  0,  0,  0],\n",
       "       [ 0,  0,  0,  0,  0,  0, 99,  0,  0,  0],\n",
       "       [ 0,  0,  1,  0,  0,  0,  0, 97,  0,  0],\n",
       "       [ 0,  0,  0,  0,  0,  0,  0,  0, 97,  0],\n",
       "       [ 0,  0,  0,  0,  0,  0,  0,  0,  0, 98]])"
      ]
     },
     "execution_count": 22,
     "metadata": {},
     "output_type": "execute_result"
    }
   ],
   "source": [
    "(cm/cm.sum(axis=1)*100).round(2).astype(int)"
   ]
  },
  {
   "cell_type": "code",
   "execution_count": null,
   "metadata": {
    "scrolled": true
   },
   "outputs": [],
   "source": []
  },
  {
   "cell_type": "markdown",
   "metadata": {},
   "source": [
    "# Simple Autoencoder for image compression"
   ]
  },
  {
   "cell_type": "code",
   "execution_count": 23,
   "metadata": {
    "scrolled": false
   },
   "outputs": [
    {
     "name": "stdout",
     "output_type": "stream",
     "text": [
      "Model: \"model_4\"\n",
      "_________________________________________________________________\n",
      "Layer (type)                 Output Shape              Param #   \n",
      "=================================================================\n",
      "input_3 (InputLayer)         [(None, 28, 28)]          0         \n",
      "_________________________________________________________________\n",
      "model_2 (Model)              (None, 64)                108736    \n",
      "_________________________________________________________________\n",
      "model_3 (Model)              (None, 28, 28)            109456    \n",
      "=================================================================\n",
      "Total params: 218,192\n",
      "Trainable params: 218,192\n",
      "Non-trainable params: 0\n",
      "_________________________________________________________________\n"
     ]
    },
    {
     "data": {
      "image/png": "[encoded data removed]",
      "text/plain": [
       "<Figure size 432x288 with 1 Axes>"
      ]
     },
     "metadata": {
      "needs_background": "light"
     },
     "output_type": "display_data"
    },
    {
     "name": "stdout",
     "output_type": "stream",
     "text": [
      "Epoch 1/100\n",
      "1855/1875 [============================>.] - ETA: 0s - loss: 0.0860 - mean_absolute_error: 0.1485"
     ]
    },
    {
     "data": {
      "image/png": "[encoded data removed]",
      "text/plain": [
       "<Figure size 432x288 with 1 Axes>"
      ]
     },
     "metadata": {
      "needs_background": "light"
     },
     "output_type": "display_data"
    },
    {
     "name": "stdout",
     "output_type": "stream",
     "text": [
      "1875/1875 [==============================] - 4s 2ms/step - loss: 0.0858 - mean_absolute_error: 0.1484\n",
      "Epoch 2/100\n",
      "1865/1875 [============================>.] - ETA: 0s - loss: 0.0674 - mean_absolute_error: 0.1348"
     ]
    },
    {
     "data": {
      "image/png": "[encoded data removed]",
      "text/plain": [
       "<Figure size 432x288 with 1 Axes>"
      ]
     },
     "metadata": {
      "needs_background": "light"
     },
     "output_type": "display_data"
    },
    {
     "name": "stdout",
     "output_type": "stream",
     "text": [
      "1875/1875 [==============================] - 3s 2ms/step - loss: 0.0674 - mean_absolute_error: 0.1348\n",
      "Epoch 3/100\n",
      "1869/1875 [============================>.] - ETA: 0s - loss: 0.0582 - mean_absolute_error: 0.1217- ETA: 0s - loss: 0.0584 - mean_absolute_error: 0.1"
     ]
    },
    {
     "data": {
      "image/png": "[encoded data removed]",
      "text/plain": [
       "<Figure size 432x288 with 1 Axes>"
      ]
     },
     "metadata": {
      "needs_background": "light"
     },
     "output_type": "display_data"
    },
    {
     "name": "stdout",
     "output_type": "stream",
     "text": [
      "1875/1875 [==============================] - 4s 2ms/step - loss: 0.0582 - mean_absolute_error: 0.1217\n",
      "Epoch 4/100\n",
      "1864/1875 [============================>.] - ETA: 0s - loss: 0.0506 - mean_absolute_error: 0.1086"
     ]
    },
    {
     "data": {
      "image/png": "[encoded data removed]",
      "text/plain": [
       "<Figure size 432x288 with 1 Axes>"
      ]
     },
     "metadata": {
      "needs_background": "light"
     },
     "output_type": "display_data"
    },
    {
     "name": "stdout",
     "output_type": "stream",
     "text": [
      "1875/1875 [==============================] - 3s 2ms/step - loss: 0.0505 - mean_absolute_error: 0.1086\n",
      "Epoch 5/100\n",
      "1848/1875 [============================>.] - ETA: 0s - loss: 0.0452 - mean_absolute_error: 0.0985"
     ]
    },
    {
     "data": {
      "image/png": "[encoded data removed]",
      "text/plain": [
       "<Figure size 432x288 with 1 Axes>"
      ]
     },
     "metadata": {
      "needs_background": "light"
     },
     "output_type": "display_data"
    },
    {
     "name": "stdout",
     "output_type": "stream",
     "text": [
      "1875/1875 [==============================] - 3s 2ms/step - loss: 0.0452 - mean_absolute_error: 0.0984\n",
      "Epoch 6/100\n",
      "1850/1875 [============================>.] - ETA: 0s - loss: 0.0413 - mean_absolute_error: 0.0911"
     ]
    },
    {
     "data": {
      "image/png": "[encoded data removed]",
      "text/plain": [
       "<Figure size 432x288 with 1 Axes>"
      ]
     },
     "metadata": {
      "needs_background": "light"
     },
     "output_type": "display_data"
    },
    {
     "name": "stdout",
     "output_type": "stream",
     "text": [
      "1875/1875 [==============================] - 3s 2ms/step - loss: 0.0412 - mean_absolute_error: 0.0911\n",
      "Epoch 7/100\n",
      "1856/1875 [============================>.] - ETA: 0s - loss: 0.0385 - mean_absolute_error: 0.0856"
     ]
    },
    {
     "data": {
      "image/png": "[encoded data removed]",
      "text/plain": [
       "<Figure size 432x288 with 1 Axes>"
      ]
     },
     "metadata": {
      "needs_background": "light"
     },
     "output_type": "display_data"
    },
    {
     "name": "stdout",
     "output_type": "stream",
     "text": [
      "1875/1875 [==============================] - 3s 2ms/step - loss: 0.0385 - mean_absolute_error: 0.0856\n",
      "Epoch 8/100\n",
      "1862/1875 [============================>.] - ETA: 0s - loss: 0.0362 - mean_absolute_error: 0.0812"
     ]
    },
    {
     "data": {
      "image/png": "[encoded data removed]",
      "text/plain": [
       "<Figure size 432x288 with 1 Axes>"
      ]
     },
     "metadata": {
      "needs_background": "light"
     },
     "output_type": "display_data"
    },
    {
     "name": "stdout",
     "output_type": "stream",
     "text": [
      "1875/1875 [==============================] - 3s 2ms/step - loss: 0.0362 - mean_absolute_error: 0.0812\n",
      "Epoch 9/100\n",
      "1869/1875 [============================>.] - ETA: 0s - loss: 0.0342 - mean_absolute_error: 0.0777"
     ]
    },
    {
     "data": {
      "image/png": "[encoded data removed]",
      "text/plain": [
       "<Figure size 432x288 with 1 Axes>"
      ]
     },
     "metadata": {
      "needs_background": "light"
     },
     "output_type": "display_data"
    },
    {
     "name": "stdout",
     "output_type": "stream",
     "text": [
      "1875/1875 [==============================] - 4s 2ms/step - loss: 0.0342 - mean_absolute_error: 0.0777\n",
      "Epoch 10/100\n",
      "1859/1875 [============================>.] - ETA: 0s - loss: 0.0328 - mean_absolute_error: 0.0749- ETA: 1s - loss: 0.0330 - mean_ - ETA: 0s - loss: 0.0328 - mean_absolute_error: 0.0749"
     ]
    },
    {
     "data": {
      "image/png": "[encoded data removed]",
      "text/plain": [
       "<Figure size 432x288 with 1 Axes>"
      ]
     },
     "metadata": {
      "needs_background": "light"
     },
     "output_type": "display_data"
    },
    {
     "name": "stdout",
     "output_type": "stream",
     "text": [
      "1875/1875 [==============================] - 3s 2ms/step - loss: 0.0328 - mean_absolute_error: 0.0749\n",
      "Epoch 11/100\n",
      "1869/1875 [============================>.] - ETA: 0s - loss: 0.0315 - mean_absolute_error: 0.0724"
     ]
    },
    {
     "data": {
      "image/png": "[encoded data removed]",
      "text/plain": [
       "<Figure size 432x288 with 1 Axes>"
      ]
     },
     "metadata": {
      "needs_background": "light"
     },
     "output_type": "display_data"
    },
    {
     "name": "stdout",
     "output_type": "stream",
     "text": [
      "1875/1875 [==============================] - 3s 2ms/step - loss: 0.0315 - mean_absolute_error: 0.0724\n",
      "Epoch 12/100\n",
      "1853/1875 [============================>.] - ETA: 0s - loss: 0.0304 - mean_absolute_error: 0.0704- ETA: 2s"
     ]
    },
    {
     "data": {
      "image/png": "[encoded data removed]",
      "text/plain": [
       "<Figure size 432x288 with 1 Axes>"
      ]
     },
     "metadata": {
      "needs_background": "light"
     },
     "output_type": "display_data"
    },
    {
     "name": "stdout",
     "output_type": "stream",
     "text": [
      "1875/1875 [==============================] - 4s 2ms/step - loss: 0.0304 - mean_absolute_error: 0.0704\n",
      "Epoch 13/100\n",
      "1872/1875 [============================>.] - ETA: 0s - loss: 0.0295 - mean_absolute_error: 0.0685- ETA: 0s - loss: 0.0296 - mean_absol"
     ]
    },
    {
     "data": {
      "image/png": "[encoded data removed]",
      "text/plain": [
       "<Figure size 432x288 with 1 Axes>"
      ]
     },
     "metadata": {
      "needs_background": "light"
     },
     "output_type": "display_data"
    },
    {
     "name": "stdout",
     "output_type": "stream",
     "text": [
      "1875/1875 [==============================] - 3s 2ms/step - loss: 0.0295 - mean_absolute_error: 0.0685\n",
      "Epoch 14/100\n",
      "1866/1875 [============================>.] - ETA: 0s - loss: 0.0286 - mean_absolute_error: 0.0669"
     ]
    },
    {
     "data": {
      "image/png": "[encoded data removed]",
      "text/plain": [
       "<Figure size 432x288 with 1 Axes>"
      ]
     },
     "metadata": {
      "needs_background": "light"
     },
     "output_type": "display_data"
    },
    {
     "name": "stdout",
     "output_type": "stream",
     "text": [
      "1875/1875 [==============================] - 3s 2ms/step - loss: 0.0286 - mean_absolute_error: 0.0669\n",
      "Epoch 15/100\n",
      "1871/1875 [============================>.] - ETA: 0s - loss: 0.0279 - mean_absolute_error: 0.0655"
     ]
    },
    {
     "data": {
      "image/png": "[encoded data removed]",
      "text/plain": [
       "<Figure size 432x288 with 1 Axes>"
      ]
     },
     "metadata": {
      "needs_background": "light"
     },
     "output_type": "display_data"
    },
    {
     "name": "stdout",
     "output_type": "stream",
     "text": [
      "1875/1875 [==============================] - 3s 2ms/step - loss: 0.0279 - mean_absolute_error: 0.0655\n",
      "Epoch 16/100\n",
      "1846/1875 [============================>.] - ETA: 0s - loss: 0.0272 - mean_absolute_error: 0.0642"
     ]
    },
    {
     "data": {
      "image/png": "[encoded data removed]",
      "text/plain": [
       "<Figure size 432x288 with 1 Axes>"
      ]
     },
     "metadata": {
      "needs_background": "light"
     },
     "output_type": "display_data"
    },
    {
     "name": "stdout",
     "output_type": "stream",
     "text": [
      "1875/1875 [==============================] - 3s 2ms/step - loss: 0.0272 - mean_absolute_error: 0.0642\n",
      "Epoch 17/100\n",
      "1840/1875 [============================>.] - ETA: 0s - loss: 0.0266 - mean_absolute_error: 0.0630"
     ]
    },
    {
     "data": {
      "image/png": "[encoded data removed]",
      "text/plain": [
       "<Figure size 432x288 with 1 Axes>"
      ]
     },
     "metadata": {
      "needs_background": "light"
     },
     "output_type": "display_data"
    },
    {
     "name": "stdout",
     "output_type": "stream",
     "text": [
      "1875/1875 [==============================] - 3s 2ms/step - loss: 0.0266 - mean_absolute_error: 0.0630\n",
      "Epoch 18/100\n",
      "1841/1875 [============================>.] - ETA: 0s - loss: 0.0261 - mean_absolute_error: 0.0620- ETA: 1s - loss: 0.0262 - mean_ab"
     ]
    },
    {
     "data": {
      "image/png": "[encoded data removed]",
      "text/plain": [
       "<Figure size 432x288 with 1 Axes>"
      ]
     },
     "metadata": {
      "needs_background": "light"
     },
     "output_type": "display_data"
    },
    {
     "name": "stdout",
     "output_type": "stream",
     "text": [
      "1875/1875 [==============================] - 3s 2ms/step - loss: 0.0261 - mean_absolute_error: 0.0620\n",
      "Epoch 19/100\n",
      "1870/1875 [============================>.] - ETA: 0s - loss: 0.0256 - mean_absolute_error: 0.0610"
     ]
    },
    {
     "data": {
      "image/png": "[encoded data removed]",
      "text/plain": [
       "<Figure size 432x288 with 1 Axes>"
      ]
     },
     "metadata": {
      "needs_background": "light"
     },
     "output_type": "display_data"
    },
    {
     "name": "stdout",
     "output_type": "stream",
     "text": [
      "1875/1875 [==============================] - 3s 2ms/step - loss: 0.0256 - mean_absolute_error: 0.0610\n",
      "Epoch 20/100\n",
      "1865/1875 [============================>.] - ETA: 0s - loss: 0.0251 - mean_absolute_error: 0.0601"
     ]
    },
    {
     "data": {
      "image/png": "[encoded data removed]",
      "text/plain": [
       "<Figure size 432x288 with 1 Axes>"
      ]
     },
     "metadata": {
      "needs_background": "light"
     },
     "output_type": "display_data"
    },
    {
     "name": "stdout",
     "output_type": "stream",
     "text": [
      "1875/1875 [==============================] - 3s 2ms/step - loss: 0.0251 - mean_absolute_error: 0.0601\n",
      "Epoch 21/100\n",
      "1871/1875 [============================>.] - ETA: 0s - loss: 0.0247 - mean_absolute_error: 0.0593"
     ]
    },
    {
     "data": {
      "image/png": "[encoded data removed]",
      "text/plain": [
       "<Figure size 432x288 with 1 Axes>"
      ]
     },
     "metadata": {
      "needs_background": "light"
     },
     "output_type": "display_data"
    },
    {
     "name": "stdout",
     "output_type": "stream",
     "text": [
      "1875/1875 [==============================] - 3s 2ms/step - loss: 0.0247 - mean_absolute_error: 0.0593\n",
      "Epoch 22/100\n",
      "1842/1875 [============================>.] - ETA: 0s - loss: 0.0243 - mean_absolute_error: 0.0585"
     ]
    },
    {
     "data": {
      "image/png": "[encoded data removed]",
      "text/plain": [
       "<Figure size 432x288 with 1 Axes>"
      ]
     },
     "metadata": {
      "needs_background": "light"
     },
     "output_type": "display_data"
    },
    {
     "name": "stdout",
     "output_type": "stream",
     "text": [
      "1875/1875 [==============================] - 3s 2ms/step - loss: 0.0243 - mean_absolute_error: 0.0585\n",
      "Epoch 23/100\n",
      "1870/1875 [============================>.] - ETA: 0s - loss: 0.0239 - mean_absolute_error: 0.0578"
     ]
    },
    {
     "data": {
      "image/png": "[encoded data removed]",
      "text/plain": [
       "<Figure size 432x288 with 1 Axes>"
      ]
     },
     "metadata": {
      "needs_background": "light"
     },
     "output_type": "display_data"
    },
    {
     "name": "stdout",
     "output_type": "stream",
     "text": [
      "1875/1875 [==============================] - 3s 2ms/step - loss: 0.0239 - mean_absolute_error: 0.0578\n",
      "Epoch 24/100\n",
      "1875/1875 [==============================] - ETA: 0s - loss: 0.0236 - mean_absolute_error: 0.0571"
     ]
    },
    {
     "data": {
      "image/png": "[encoded data removed]",
      "text/plain": [
       "<Figure size 432x288 with 1 Axes>"
      ]
     },
     "metadata": {
      "needs_background": "light"
     },
     "output_type": "display_data"
    },
    {
     "name": "stdout",
     "output_type": "stream",
     "text": [
      "1875/1875 [==============================] - 3s 2ms/step - loss: 0.0236 - mean_absolute_error: 0.0571\n",
      "Epoch 25/100\n",
      "1875/1875 [==============================] - ETA: 0s - loss: 0.0232 - mean_absolute_error: 0.0564"
     ]
    },
    {
     "data": {
      "image/png": "[encoded data removed]",
      "text/plain": [
       "<Figure size 432x288 with 1 Axes>"
      ]
     },
     "metadata": {
      "needs_background": "light"
     },
     "output_type": "display_data"
    },
    {
     "name": "stdout",
     "output_type": "stream",
     "text": [
      "1875/1875 [==============================] - 3s 2ms/step - loss: 0.0232 - mean_absolute_error: 0.0564\n",
      "Epoch 26/100\n",
      "1846/1875 [============================>.] - ETA: 0s - loss: 0.0229 - mean_absolute_error: 0.0558"
     ]
    },
    {
     "data": {
      "image/png": "[encoded data removed]",
      "text/plain": [
       "<Figure size 432x288 with 1 Axes>"
      ]
     },
     "metadata": {
      "needs_background": "light"
     },
     "output_type": "display_data"
    },
    {
     "name": "stdout",
     "output_type": "stream",
     "text": [
      "1875/1875 [==============================] - 3s 2ms/step - loss: 0.0229 - mean_absolute_error: 0.0558\n",
      "Epoch 27/100\n",
      "1875/1875 [==============================] - ETA: 0s - loss: 0.0226 - mean_absolute_error: 0.0552- ETA: 2s "
     ]
    },
    {
     "data": {
      "image/png": "[encoded data removed]",
      "text/plain": [
       "<Figure size 432x288 with 1 Axes>"
      ]
     },
     "metadata": {
      "needs_background": "light"
     },
     "output_type": "display_data"
    },
    {
     "name": "stdout",
     "output_type": "stream",
     "text": [
      "1875/1875 [==============================] - 3s 2ms/step - loss: 0.0226 - mean_absolute_error: 0.0552\n",
      "Epoch 28/100\n",
      "1844/1875 [============================>.] - ETA: 0s - loss: 0.0224 - mean_absolute_error: 0.0547"
     ]
    },
    {
     "data": {
      "image/png": "[encoded data removed]",
      "text/plain": [
       "<Figure size 432x288 with 1 Axes>"
      ]
     },
     "metadata": {
      "needs_background": "light"
     },
     "output_type": "display_data"
    },
    {
     "name": "stdout",
     "output_type": "stream",
     "text": [
      "1875/1875 [==============================] - 3s 2ms/step - loss: 0.0224 - mean_absolute_error: 0.0547\n",
      "Epoch 29/100\n",
      "1859/1875 [============================>.] - ETA: 0s - loss: 0.0221 - mean_absolute_error: 0.0542"
     ]
    },
    {
     "data": {
      "image/png": "[encoded data removed]",
      "text/plain": [
       "<Figure size 432x288 with 1 Axes>"
      ]
     },
     "metadata": {
      "needs_background": "light"
     },
     "output_type": "display_data"
    },
    {
     "name": "stdout",
     "output_type": "stream",
     "text": [
      "1875/1875 [==============================] - 3s 2ms/step - loss: 0.0221 - mean_absolute_error: 0.0542\n",
      "Epoch 30/100\n",
      "1873/1875 [============================>.] - ETA: 0s - loss: 0.0219 - mean_absolute_error: 0.0537"
     ]
    },
    {
     "data": {
      "image/png": "[encoded data removed]",
      "text/plain": [
       "<Figure size 432x288 with 1 Axes>"
      ]
     },
     "metadata": {
      "needs_background": "light"
     },
     "output_type": "display_data"
    },
    {
     "name": "stdout",
     "output_type": "stream",
     "text": [
      "1875/1875 [==============================] - 3s 2ms/step - loss: 0.0219 - mean_absolute_error: 0.0537\n",
      "Epoch 31/100\n",
      "1850/1875 [============================>.] - ETA: 0s - loss: 0.0217 - mean_absolute_error: 0.0533"
     ]
    },
    {
     "data": {
      "image/png": "[encoded data removed]",
      "text/plain": [
       "<Figure size 432x288 with 1 Axes>"
      ]
     },
     "metadata": {
      "needs_background": "light"
     },
     "output_type": "display_data"
    },
    {
     "name": "stdout",
     "output_type": "stream",
     "text": [
      "1875/1875 [==============================] - 3s 2ms/step - loss: 0.0216 - mean_absolute_error: 0.0532\n",
      "Epoch 32/100\n",
      "1847/1875 [============================>.] - ETA: 0s - loss: 0.0214 - mean_absolute_error: 0.0528"
     ]
    },
    {
     "data": {
      "image/png": "[encoded data removed]",
      "text/plain": [
       "<Figure size 432x288 with 1 Axes>"
      ]
     },
     "metadata": {
      "needs_background": "light"
     },
     "output_type": "display_data"
    },
    {
     "name": "stdout",
     "output_type": "stream",
     "text": [
      "1875/1875 [==============================] - 3s 2ms/step - loss: 0.0214 - mean_absolute_error: 0.0528\n",
      "Epoch 33/100\n",
      "1847/1875 [============================>.] - ETA: 0s - loss: 0.0212 - mean_absolute_error: 0.0524"
     ]
    },
    {
     "data": {
      "image/png": "[encoded data removed]",
      "text/plain": [
       "<Figure size 432x288 with 1 Axes>"
      ]
     },
     "metadata": {
      "needs_background": "light"
     },
     "output_type": "display_data"
    },
    {
     "name": "stdout",
     "output_type": "stream",
     "text": [
      "1875/1875 [==============================] - 3s 2ms/step - loss: 0.0212 - mean_absolute_error: 0.0524\n",
      "Epoch 34/100\n",
      "1873/1875 [============================>.] - ETA: 0s - loss: 0.0210 - mean_absolute_error: 0.0520"
     ]
    },
    {
     "data": {
      "image/png": "[encoded data removed]",
      "text/plain": [
       "<Figure size 432x288 with 1 Axes>"
      ]
     },
     "metadata": {
      "needs_background": "light"
     },
     "output_type": "display_data"
    },
    {
     "name": "stdout",
     "output_type": "stream",
     "text": [
      "1875/1875 [==============================] - 3s 2ms/step - loss: 0.0210 - mean_absolute_error: 0.0520\n",
      "Epoch 35/100\n",
      "1860/1875 [============================>.] - ETA: 0s - loss: 0.0208 - mean_absolute_error: 0.0516"
     ]
    },
    {
     "data": {
      "image/png": "[encoded data removed]",
      "text/plain": [
       "<Figure size 432x288 with 1 Axes>"
      ]
     },
     "metadata": {
      "needs_background": "light"
     },
     "output_type": "display_data"
    },
    {
     "name": "stdout",
     "output_type": "stream",
     "text": [
      "1875/1875 [==============================] - 3s 2ms/step - loss: 0.0208 - mean_absolute_error: 0.0516\n",
      "Epoch 36/100\n",
      "1842/1875 [============================>.] - ETA: 0s - loss: 0.0207 - mean_absolute_error: 0.0512"
     ]
    },
    {
     "data": {
      "image/png": "[encoded data removed]",
      "text/plain": [
       "<Figure size 432x288 with 1 Axes>"
      ]
     },
     "metadata": {
      "needs_background": "light"
     },
     "output_type": "display_data"
    },
    {
     "name": "stdout",
     "output_type": "stream",
     "text": [
      "1875/1875 [==============================] - 3s 2ms/step - loss: 0.0207 - mean_absolute_error: 0.0513\n",
      "Epoch 37/100\n",
      "1851/1875 [============================>.] - ETA: 0s - loss: 0.0205 - mean_absolute_error: 0.0509"
     ]
    },
    {
     "data": {
      "image/png": "[encoded data removed]",
      "text/plain": [
       "<Figure size 432x288 with 1 Axes>"
      ]
     },
     "metadata": {
      "needs_background": "light"
     },
     "output_type": "display_data"
    },
    {
     "name": "stdout",
     "output_type": "stream",
     "text": [
      "1875/1875 [==============================] - 3s 2ms/step - loss: 0.0205 - mean_absolute_error: 0.0509\n",
      "Epoch 38/100\n",
      "1875/1875 [==============================] - ETA: 0s - loss: 0.0203 - mean_absolute_error: 0.0506"
     ]
    },
    {
     "data": {
      "image/png": "[encoded data removed]",
      "text/plain": [
       "<Figure size 432x288 with 1 Axes>"
      ]
     },
     "metadata": {
      "needs_background": "light"
     },
     "output_type": "display_data"
    },
    {
     "name": "stdout",
     "output_type": "stream",
     "text": [
      "1875/1875 [==============================] - 3s 2ms/step - loss: 0.0203 - mean_absolute_error: 0.0506\n",
      "Epoch 39/100\n",
      "1863/1875 [============================>.] - ETA: 0s - loss: 0.0202 - mean_absolute_error: 0.0503"
     ]
    },
    {
     "data": {
      "image/png": "[encoded data removed]",
      "text/plain": [
       "<Figure size 432x288 with 1 Axes>"
      ]
     },
     "metadata": {
      "needs_background": "light"
     },
     "output_type": "display_data"
    },
    {
     "name": "stdout",
     "output_type": "stream",
     "text": [
      "1875/1875 [==============================] - 3s 2ms/step - loss: 0.0202 - mean_absolute_error: 0.0503\n",
      "Epoch 40/100\n",
      "1861/1875 [============================>.] - ETA: 0s - loss: 0.0200 - mean_absolute_error: 0.0500"
     ]
    },
    {
     "data": {
      "image/png": "[encoded data removed]",
      "text/plain": [
       "<Figure size 432x288 with 1 Axes>"
      ]
     },
     "metadata": {
      "needs_background": "light"
     },
     "output_type": "display_data"
    },
    {
     "name": "stdout",
     "output_type": "stream",
     "text": [
      "1875/1875 [==============================] - 3s 2ms/step - loss: 0.0200 - mean_absolute_error: 0.0500\n",
      "Epoch 41/100\n",
      "1845/1875 [============================>.] - ETA: 0s - loss: 0.0199 - mean_absolute_error: 0.0497"
     ]
    },
    {
     "data": {
      "image/png": "[encoded data removed]",
      "text/plain": [
       "<Figure size 432x288 with 1 Axes>"
      ]
     },
     "metadata": {
      "needs_background": "light"
     },
     "output_type": "display_data"
    },
    {
     "name": "stdout",
     "output_type": "stream",
     "text": [
      "1875/1875 [==============================] - 3s 2ms/step - loss: 0.0199 - mean_absolute_error: 0.0497\n",
      "Epoch 42/100\n",
      "1846/1875 [============================>.] - ETA: 0s - loss: 0.0198 - mean_absolute_error: 0.0494"
     ]
    },
    {
     "data": {
      "image/png": "[encoded data removed]",
      "text/plain": [
       "<Figure size 432x288 with 1 Axes>"
      ]
     },
     "metadata": {
      "needs_background": "light"
     },
     "output_type": "display_data"
    },
    {
     "name": "stdout",
     "output_type": "stream",
     "text": [
      "1875/1875 [==============================] - 3s 2ms/step - loss: 0.0198 - mean_absolute_error: 0.0494\n",
      "Epoch 43/100\n",
      "1859/1875 [============================>.] - ETA: 0s - loss: 0.0196 - mean_absolute_error: 0.0491"
     ]
    },
    {
     "data": {
      "image/png": "[encoded data removed]",
      "text/plain": [
       "<Figure size 432x288 with 1 Axes>"
      ]
     },
     "metadata": {
      "needs_background": "light"
     },
     "output_type": "display_data"
    },
    {
     "name": "stdout",
     "output_type": "stream",
     "text": [
      "1875/1875 [==============================] - 3s 2ms/step - loss: 0.0196 - mean_absolute_error: 0.0491\n",
      "Epoch 44/100\n",
      "1847/1875 [============================>.] - ETA: 0s - loss: 0.0195 - mean_absolute_error: 0.0489- ETA: 1s - loss: 0.0195 - mean_"
     ]
    },
    {
     "data": {
      "image/png": "[encoded data removed]",
      "text/plain": [
       "<Figure size 432x288 with 1 Axes>"
      ]
     },
     "metadata": {
      "needs_background": "light"
     },
     "output_type": "display_data"
    },
    {
     "name": "stdout",
     "output_type": "stream",
     "text": [
      "1875/1875 [==============================] - 3s 2ms/step - loss: 0.0195 - mean_absolute_error: 0.0489\n",
      "Epoch 45/100\n",
      "1854/1875 [============================>.] - ETA: 0s - loss: 0.0194 - mean_absolute_error: 0.0486"
     ]
    },
    {
     "data": {
      "image/png": "[encoded data removed]",
      "text/plain": [
       "<Figure size 432x288 with 1 Axes>"
      ]
     },
     "metadata": {
      "needs_background": "light"
     },
     "output_type": "display_data"
    },
    {
     "name": "stdout",
     "output_type": "stream",
     "text": [
      "1875/1875 [==============================] - 3s 2ms/step - loss: 0.0194 - mean_absolute_error: 0.0486\n",
      "Epoch 46/100\n",
      "1870/1875 [============================>.] - ETA: 0s - loss: 0.0193 - mean_absolute_error: 0.0484"
     ]
    },
    {
     "data": {
      "image/png": "[encoded data removed]",
      "text/plain": [
       "<Figure size 432x288 with 1 Axes>"
      ]
     },
     "metadata": {
      "needs_background": "light"
     },
     "output_type": "display_data"
    },
    {
     "name": "stdout",
     "output_type": "stream",
     "text": [
      "1875/1875 [==============================] - 3s 2ms/step - loss: 0.0193 - mean_absolute_error: 0.0484\n",
      "Epoch 47/100\n",
      "1875/1875 [==============================] - ETA: 0s - loss: 0.0192 - mean_absolute_error: 0.0481- E"
     ]
    },
    {
     "data": {
      "image/png": "[encoded data removed]",
      "text/plain": [
       "<Figure size 432x288 with 1 Axes>"
      ]
     },
     "metadata": {
      "needs_background": "light"
     },
     "output_type": "display_data"
    },
    {
     "name": "stdout",
     "output_type": "stream",
     "text": [
      "1875/1875 [==============================] - 3s 2ms/step - loss: 0.0192 - mean_absolute_error: 0.0481\n",
      "Epoch 48/100\n",
      "1861/1875 [============================>.] - ETA: 0s - loss: 0.0191 - mean_absolute_error: 0.0479"
     ]
    },
    {
     "data": {
      "image/png": "[encoded data removed]",
      "text/plain": [
       "<Figure size 432x288 with 1 Axes>"
      ]
     },
     "metadata": {
      "needs_background": "light"
     },
     "output_type": "display_data"
    },
    {
     "name": "stdout",
     "output_type": "stream",
     "text": [
      "1875/1875 [==============================] - 3s 2ms/step - loss: 0.0191 - mean_absolute_error: 0.0479\n",
      "Epoch 49/100\n",
      "1872/1875 [============================>.] - ETA: 0s - loss: 0.0190 - mean_absolute_error: 0.0477"
     ]
    },
    {
     "data": {
      "image/png": "[encoded data removed]",
      "text/plain": [
       "<Figure size 432x288 with 1 Axes>"
      ]
     },
     "metadata": {
      "needs_background": "light"
     },
     "output_type": "display_data"
    },
    {
     "name": "stdout",
     "output_type": "stream",
     "text": [
      "1875/1875 [==============================] - 3s 2ms/step - loss: 0.0190 - mean_absolute_error: 0.0477\n",
      "Epoch 50/100\n",
      "1854/1875 [============================>.] - ETA: 0s - loss: 0.0189 - mean_absolute_error: 0.0475"
     ]
    },
    {
     "data": {
      "image/png": "[encoded data removed]",
      "text/plain": [
       "<Figure size 432x288 with 1 Axes>"
      ]
     },
     "metadata": {
      "needs_background": "light"
     },
     "output_type": "display_data"
    },
    {
     "name": "stdout",
     "output_type": "stream",
     "text": [
      "1875/1875 [==============================] - 3s 2ms/step - loss: 0.0189 - mean_absolute_error: 0.0475\n",
      "Epoch 51/100\n",
      "1858/1875 [============================>.] - ETA: 0s - loss: 0.0188 - mean_absolute_error: 0.0473"
     ]
    },
    {
     "data": {
      "image/png": "[encoded data removed]",
      "text/plain": [
       "<Figure size 432x288 with 1 Axes>"
      ]
     },
     "metadata": {
      "needs_background": "light"
     },
     "output_type": "display_data"
    },
    {
     "name": "stdout",
     "output_type": "stream",
     "text": [
      "1875/1875 [==============================] - 3s 2ms/step - loss: 0.0188 - mean_absolute_error: 0.0473\n",
      "Epoch 52/100\n",
      "1852/1875 [============================>.] - ETA: 0s - loss: 0.0187 - mean_absolute_error: 0.0471"
     ]
    },
    {
     "data": {
      "image/png": "[encoded data removed]",
      "text/plain": [
       "<Figure size 432x288 with 1 Axes>"
      ]
     },
     "metadata": {
      "needs_background": "light"
     },
     "output_type": "display_data"
    },
    {
     "name": "stdout",
     "output_type": "stream",
     "text": [
      "1875/1875 [==============================] - 3s 2ms/step - loss: 0.0187 - mean_absolute_error: 0.0471\n",
      "Epoch 53/100\n",
      "1843/1875 [============================>.] - ETA: 0s - loss: 0.0186 - mean_absolute_error: 0.0469"
     ]
    },
    {
     "data": {
      "image/png": "[encoded data removed]",
      "text/plain": [
       "<Figure size 432x288 with 1 Axes>"
      ]
     },
     "metadata": {
      "needs_background": "light"
     },
     "output_type": "display_data"
    },
    {
     "name": "stdout",
     "output_type": "stream",
     "text": [
      "1875/1875 [==============================] - 3s 2ms/step - loss: 0.0186 - mean_absolute_error: 0.0469\n",
      "Epoch 54/100\n",
      "1845/1875 [============================>.] - ETA: 0s - loss: 0.0185 - mean_absolute_error: 0.0467"
     ]
    },
    {
     "data": {
      "image/png": "[encoded data removed]",
      "text/plain": [
       "<Figure size 432x288 with 1 Axes>"
      ]
     },
     "metadata": {
      "needs_background": "light"
     },
     "output_type": "display_data"
    },
    {
     "name": "stdout",
     "output_type": "stream",
     "text": [
      "1875/1875 [==============================] - 3s 2ms/step - loss: 0.0185 - mean_absolute_error: 0.0467\n",
      "Epoch 55/100\n",
      "1844/1875 [============================>.] - ETA: 0s - loss: 0.0184 - mean_absolute_error: 0.0466"
     ]
    },
    {
     "data": {
      "image/png": "[encoded data removed]",
      "text/plain": [
       "<Figure size 432x288 with 1 Axes>"
      ]
     },
     "metadata": {
      "needs_background": "light"
     },
     "output_type": "display_data"
    },
    {
     "name": "stdout",
     "output_type": "stream",
     "text": [
      "1875/1875 [==============================] - 3s 2ms/step - loss: 0.0184 - mean_absolute_error: 0.0466\n",
      "Epoch 56/100\n",
      "1846/1875 [============================>.] - ETA: 0s - loss: 0.0184 - mean_absolute_error: 0.0464"
     ]
    },
    {
     "data": {
      "image/png": "[encoded data removed]",
      "text/plain": [
       "<Figure size 432x288 with 1 Axes>"
      ]
     },
     "metadata": {
      "needs_background": "light"
     },
     "output_type": "display_data"
    },
    {
     "name": "stdout",
     "output_type": "stream",
     "text": [
      "1875/1875 [==============================] - 3s 2ms/step - loss: 0.0184 - mean_absolute_error: 0.0464\n",
      "Epoch 57/100\n",
      "1850/1875 [============================>.] - ETA: 0s - loss: 0.0183 - mean_absolute_error: 0.0462"
     ]
    },
    {
     "data": {
      "image/png": "[encoded data removed]",
      "text/plain": [
       "<Figure size 432x288 with 1 Axes>"
      ]
     },
     "metadata": {
      "needs_background": "light"
     },
     "output_type": "display_data"
    },
    {
     "name": "stdout",
     "output_type": "stream",
     "text": [
      "1875/1875 [==============================] - 3s 2ms/step - loss: 0.0183 - mean_absolute_error: 0.0462\n",
      "Epoch 58/100\n",
      "1861/1875 [============================>.] - ETA: 0s - loss: 0.0182 - mean_absolute_error: 0.0461"
     ]
    },
    {
     "data": {
      "image/png": "[encoded data removed]",
      "text/plain": [
       "<Figure size 432x288 with 1 Axes>"
      ]
     },
     "metadata": {
      "needs_background": "light"
     },
     "output_type": "display_data"
    },
    {
     "name": "stdout",
     "output_type": "stream",
     "text": [
      "1875/1875 [==============================] - 3s 2ms/step - loss: 0.0182 - mean_absolute_error: 0.0461\n",
      "Epoch 59/100\n",
      "1873/1875 [============================>.] - ETA: 0s - loss: 0.0181 - mean_absolute_error: 0.0459"
     ]
    },
    {
     "data": {
      "image/png": "[encoded data removed]",
      "text/plain": [
       "<Figure size 432x288 with 1 Axes>"
      ]
     },
     "metadata": {
      "needs_background": "light"
     },
     "output_type": "display_data"
    },
    {
     "name": "stdout",
     "output_type": "stream",
     "text": [
      "1875/1875 [==============================] - 3s 2ms/step - loss: 0.0181 - mean_absolute_error: 0.0459\n",
      "Epoch 60/100\n",
      "1854/1875 [============================>.] - ETA: 0s - loss: 0.0181 - mean_absolute_error: 0.0457"
     ]
    },
    {
     "data": {
      "image/png": "[encoded data removed]",
      "text/plain": [
       "<Figure size 432x288 with 1 Axes>"
      ]
     },
     "metadata": {
      "needs_background": "light"
     },
     "output_type": "display_data"
    },
    {
     "name": "stdout",
     "output_type": "stream",
     "text": [
      "1875/1875 [==============================] - 3s 2ms/step - loss: 0.0181 - mean_absolute_error: 0.0457\n",
      "Epoch 61/100\n",
      "1869/1875 [============================>.] - ETA: 0s - loss: 0.0180 - mean_absolute_error: 0.0456- ETA: 1s - loss: 0.0180 - mea"
     ]
    },
    {
     "data": {
      "image/png": "[encoded data removed]",
      "text/plain": [
       "<Figure size 432x288 with 1 Axes>"
      ]
     },
     "metadata": {
      "needs_background": "light"
     },
     "output_type": "display_data"
    },
    {
     "name": "stdout",
     "output_type": "stream",
     "text": [
      "1875/1875 [==============================] - 3s 2ms/step - loss: 0.0180 - mean_absolute_error: 0.0456\n",
      "Epoch 62/100\n",
      "1861/1875 [============================>.] - ETA: 0s - loss: 0.0179 - mean_absolute_error: 0.0455"
     ]
    },
    {
     "data": {
      "image/png": "[encoded data removed]",
      "text/plain": [
       "<Figure size 432x288 with 1 Axes>"
      ]
     },
     "metadata": {
      "needs_background": "light"
     },
     "output_type": "display_data"
    },
    {
     "name": "stdout",
     "output_type": "stream",
     "text": [
      "1875/1875 [==============================] - 3s 2ms/step - loss: 0.0179 - mean_absolute_error: 0.0455\n",
      "Epoch 63/100\n",
      "1856/1875 [============================>.] - ETA: 0s - loss: 0.0179 - mean_absolute_error: 0.0453"
     ]
    },
    {
     "data": {
      "image/png": "[encoded data removed]",
      "text/plain": [
       "<Figure size 432x288 with 1 Axes>"
      ]
     },
     "metadata": {
      "needs_background": "light"
     },
     "output_type": "display_data"
    },
    {
     "name": "stdout",
     "output_type": "stream",
     "text": [
      "1875/1875 [==============================] - 3s 2ms/step - loss: 0.0179 - mean_absolute_error: 0.0453\n",
      "Epoch 64/100\n",
      "1867/1875 [============================>.] - ETA: 0s - loss: 0.0178 - mean_absolute_error: 0.0452"
     ]
    },
    {
     "data": {
      "image/png": "[encoded data removed]",
      "text/plain": [
       "<Figure size 432x288 with 1 Axes>"
      ]
     },
     "metadata": {
      "needs_background": "light"
     },
     "output_type": "display_data"
    },
    {
     "name": "stdout",
     "output_type": "stream",
     "text": [
      "1875/1875 [==============================] - 3s 2ms/step - loss: 0.0178 - mean_absolute_error: 0.0452\n",
      "Epoch 65/100\n",
      "1866/1875 [============================>.] - ETA: 0s - loss: 0.0177 - mean_absolute_error: 0.0450"
     ]
    },
    {
     "data": {
      "image/png": "[encoded data removed]",
      "text/plain": [
       "<Figure size 432x288 with 1 Axes>"
      ]
     },
     "metadata": {
      "needs_background": "light"
     },
     "output_type": "display_data"
    },
    {
     "name": "stdout",
     "output_type": "stream",
     "text": [
      "1875/1875 [==============================] - 3s 2ms/step - loss: 0.0177 - mean_absolute_error: 0.0450\n",
      "Epoch 66/100\n",
      "1855/1875 [============================>.] - ETA: 0s - loss: 0.0177 - mean_absolute_error: 0.0449"
     ]
    },
    {
     "data": {
      "image/png": "[encoded data removed]",
      "text/plain": [
       "<Figure size 432x288 with 1 Axes>"
      ]
     },
     "metadata": {
      "needs_background": "light"
     },
     "output_type": "display_data"
    },
    {
     "name": "stdout",
     "output_type": "stream",
     "text": [
      "1875/1875 [==============================] - 3s 2ms/step - loss: 0.0177 - mean_absolute_error: 0.0449\n",
      "Epoch 67/100\n",
      "1842/1875 [============================>.] - ETA: 0s - loss: 0.0176 - mean_absolute_error: 0.0448"
     ]
    },
    {
     "data": {
      "image/png": "[encoded data removed]",
      "text/plain": [
       "<Figure size 432x288 with 1 Axes>"
      ]
     },
     "metadata": {
      "needs_background": "light"
     },
     "output_type": "display_data"
    },
    {
     "name": "stdout",
     "output_type": "stream",
     "text": [
      "1875/1875 [==============================] - 3s 2ms/step - loss: 0.0176 - mean_absolute_error: 0.0448\n",
      "Epoch 68/100\n",
      "1851/1875 [============================>.] - ETA: 0s - loss: 0.0176 - mean_absolute_error: 0.0446"
     ]
    },
    {
     "data": {
      "image/png": "[encoded data removed]",
      "text/plain": [
       "<Figure size 432x288 with 1 Axes>"
      ]
     },
     "metadata": {
      "needs_background": "light"
     },
     "output_type": "display_data"
    },
    {
     "name": "stdout",
     "output_type": "stream",
     "text": [
      "1875/1875 [==============================] - 3s 2ms/step - loss: 0.0176 - mean_absolute_error: 0.0447\n",
      "Epoch 69/100\n",
      "1846/1875 [============================>.] - ETA: 0s - loss: 0.0175 - mean_absolute_error: 0.0445"
     ]
    },
    {
     "data": {
      "image/png": "[encoded data removed]",
      "text/plain": [
       "<Figure size 432x288 with 1 Axes>"
      ]
     },
     "metadata": {
      "needs_background": "light"
     },
     "output_type": "display_data"
    },
    {
     "name": "stdout",
     "output_type": "stream",
     "text": [
      "1875/1875 [==============================] - 3s 2ms/step - loss: 0.0175 - mean_absolute_error: 0.0445\n",
      "Epoch 70/100\n",
      "1856/1875 [============================>.] - ETA: 0s - loss: 0.0175 - mean_absolute_error: 0.0444"
     ]
    },
    {
     "data": {
      "image/png": "[encoded data removed]",
      "text/plain": [
       "<Figure size 432x288 with 1 Axes>"
      ]
     },
     "metadata": {
      "needs_background": "light"
     },
     "output_type": "display_data"
    },
    {
     "name": "stdout",
     "output_type": "stream",
     "text": [
      "1875/1875 [==============================] - 3s 2ms/step - loss: 0.0175 - mean_absolute_error: 0.0444\n",
      "Epoch 71/100\n",
      "1855/1875 [============================>.] - ETA: 0s - loss: 0.0174 - mean_absolute_error: 0.0443"
     ]
    },
    {
     "data": {
      "image/png": "[encoded data removed]",
      "text/plain": [
       "<Figure size 432x288 with 1 Axes>"
      ]
     },
     "metadata": {
      "needs_background": "light"
     },
     "output_type": "display_data"
    },
    {
     "name": "stdout",
     "output_type": "stream",
     "text": [
      "1875/1875 [==============================] - 3s 2ms/step - loss: 0.0174 - mean_absolute_error: 0.0443\n",
      "Epoch 72/100\n",
      "1857/1875 [============================>.] - ETA: 0s - loss: 0.0174 - mean_absolute_error: 0.0442"
     ]
    },
    {
     "data": {
      "image/png": "[encoded data removed]",
      "text/plain": [
       "<Figure size 432x288 with 1 Axes>"
      ]
     },
     "metadata": {
      "needs_background": "light"
     },
     "output_type": "display_data"
    },
    {
     "name": "stdout",
     "output_type": "stream",
     "text": [
      "1875/1875 [==============================] - 3s 2ms/step - loss: 0.0174 - mean_absolute_error: 0.0442\n",
      "Epoch 73/100\n",
      "1874/1875 [============================>.] - ETA: 0s - loss: 0.0173 - mean_absolute_error: 0.0441- ETA: 0s - loss: 0.0173 - mean_absolute_e"
     ]
    },
    {
     "data": {
      "image/png": "[encoded data removed]",
      "text/plain": [
       "<Figure size 432x288 with 1 Axes>"
      ]
     },
     "metadata": {
      "needs_background": "light"
     },
     "output_type": "display_data"
    },
    {
     "name": "stdout",
     "output_type": "stream",
     "text": [
      "1875/1875 [==============================] - 3s 2ms/step - loss: 0.0173 - mean_absolute_error: 0.0441\n",
      "Epoch 74/100\n",
      "1851/1875 [============================>.] - ETA: 0s - loss: 0.0173 - mean_absolute_error: 0.0440"
     ]
    },
    {
     "data": {
      "image/png": "[encoded data removed]",
      "text/plain": [
       "<Figure size 432x288 with 1 Axes>"
      ]
     },
     "metadata": {
      "needs_background": "light"
     },
     "output_type": "display_data"
    },
    {
     "name": "stdout",
     "output_type": "stream",
     "text": [
      "1875/1875 [==============================] - 3s 2ms/step - loss: 0.0173 - mean_absolute_error: 0.0440\n",
      "Epoch 75/100\n",
      "1872/1875 [============================>.] - ETA: 0s - loss: 0.0172 - mean_absolute_error: 0.0439"
     ]
    },
    {
     "data": {
      "image/png": "[encoded data removed]",
      "text/plain": [
       "<Figure size 432x288 with 1 Axes>"
      ]
     },
     "metadata": {
      "needs_background": "light"
     },
     "output_type": "display_data"
    },
    {
     "name": "stdout",
     "output_type": "stream",
     "text": [
      "1875/1875 [==============================] - 3s 2ms/step - loss: 0.0172 - mean_absolute_error: 0.0439\n",
      "Epoch 76/100\n",
      "1872/1875 [============================>.] - ETA: 0s - loss: 0.0172 - mean_absolute_error: 0.0438"
     ]
    },
    {
     "data": {
      "image/png": "[encoded data removed]",
      "text/plain": [
       "<Figure size 432x288 with 1 Axes>"
      ]
     },
     "metadata": {
      "needs_background": "light"
     },
     "output_type": "display_data"
    },
    {
     "name": "stdout",
     "output_type": "stream",
     "text": [
      "1875/1875 [==============================] - 3s 2ms/step - loss: 0.0172 - mean_absolute_error: 0.0437\n",
      "Epoch 77/100\n",
      "1856/1875 [============================>.] - ETA: 0s - loss: 0.0171 - mean_absolute_error: 0.0436"
     ]
    },
    {
     "data": {
      "image/png": "[encoded data removed]",
      "text/plain": [
       "<Figure size 432x288 with 1 Axes>"
      ]
     },
     "metadata": {
      "needs_background": "light"
     },
     "output_type": "display_data"
    },
    {
     "name": "stdout",
     "output_type": "stream",
     "text": [
      "1875/1875 [==============================] - 3s 2ms/step - loss: 0.0171 - mean_absolute_error: 0.0436\n",
      "Epoch 78/100\n",
      "1860/1875 [============================>.] - ETA: 0s - loss: 0.0171 - mean_absolute_error: 0.0435"
     ]
    },
    {
     "data": {
      "image/png": "[encoded data removed]",
      "text/plain": [
       "<Figure size 432x288 with 1 Axes>"
      ]
     },
     "metadata": {
      "needs_background": "light"
     },
     "output_type": "display_data"
    },
    {
     "name": "stdout",
     "output_type": "stream",
     "text": [
      "1875/1875 [==============================] - 3s 2ms/step - loss: 0.0171 - mean_absolute_error: 0.0435\n",
      "Epoch 79/100\n",
      "1854/1875 [============================>.] - ETA: 0s - loss: 0.0170 - mean_absolute_error: 0.0435"
     ]
    },
    {
     "data": {
      "image/png": "[encoded data removed]",
      "text/plain": [
       "<Figure size 432x288 with 1 Axes>"
      ]
     },
     "metadata": {
      "needs_background": "light"
     },
     "output_type": "display_data"
    },
    {
     "name": "stdout",
     "output_type": "stream",
     "text": [
      "1875/1875 [==============================] - 3s 2ms/step - loss: 0.0170 - mean_absolute_error: 0.0434\n",
      "Epoch 80/100\n",
      "1861/1875 [============================>.] - ETA: 0s - loss: 0.0170 - mean_absolute_error: 0.0433"
     ]
    },
    {
     "data": {
      "image/png": "[encoded data removed]",
      "text/plain": [
       "<Figure size 432x288 with 1 Axes>"
      ]
     },
     "metadata": {
      "needs_background": "light"
     },
     "output_type": "display_data"
    },
    {
     "name": "stdout",
     "output_type": "stream",
     "text": [
      "1875/1875 [==============================] - 3s 2ms/step - loss: 0.0170 - mean_absolute_error: 0.0433\n",
      "Epoch 81/100\n",
      "1854/1875 [============================>.] - ETA: 0s - loss: 0.0170 - mean_absolute_error: 0.0433"
     ]
    },
    {
     "data": {
      "image/png": "[encoded data removed]",
      "text/plain": [
       "<Figure size 432x288 with 1 Axes>"
      ]
     },
     "metadata": {
      "needs_background": "light"
     },
     "output_type": "display_data"
    },
    {
     "name": "stdout",
     "output_type": "stream",
     "text": [
      "1875/1875 [==============================] - 3s 2ms/step - loss: 0.0170 - mean_absolute_error: 0.0433\n",
      "Epoch 82/100\n",
      "1870/1875 [============================>.] - ETA: 0s - loss: 0.0169 - mean_absolute_error: 0.0432"
     ]
    },
    {
     "data": {
      "image/png": "[encoded data removed]",
      "text/plain": [
       "<Figure size 432x288 with 1 Axes>"
      ]
     },
     "metadata": {
      "needs_background": "light"
     },
     "output_type": "display_data"
    },
    {
     "name": "stdout",
     "output_type": "stream",
     "text": [
      "1875/1875 [==============================] - 3s 2ms/step - loss: 0.0169 - mean_absolute_error: 0.0432\n",
      "Epoch 83/100\n",
      "1869/1875 [============================>.] - ETA: 0s - loss: 0.0169 - mean_absolute_error: 0.0431"
     ]
    },
    {
     "data": {
      "image/png": "[encoded data removed]",
      "text/plain": [
       "<Figure size 432x288 with 1 Axes>"
      ]
     },
     "metadata": {
      "needs_background": "light"
     },
     "output_type": "display_data"
    },
    {
     "name": "stdout",
     "output_type": "stream",
     "text": [
      "1875/1875 [==============================] - 3s 2ms/step - loss: 0.0169 - mean_absolute_error: 0.0431\n",
      "Epoch 84/100\n",
      "1857/1875 [============================>.] - ETA: 0s - loss: 0.0168 - mean_absolute_error: 0.0430"
     ]
    },
    {
     "data": {
      "image/png": "[encoded data removed]",
      "text/plain": [
       "<Figure size 432x288 with 1 Axes>"
      ]
     },
     "metadata": {
      "needs_background": "light"
     },
     "output_type": "display_data"
    },
    {
     "name": "stdout",
     "output_type": "stream",
     "text": [
      "1875/1875 [==============================] - 3s 2ms/step - loss: 0.0168 - mean_absolute_error: 0.0430\n",
      "Epoch 85/100\n",
      "1869/1875 [============================>.] - ETA: 0s - loss: 0.0168 - mean_absolute_error: 0.0429"
     ]
    },
    {
     "data": {
      "image/png": "[encoded data removed]",
      "text/plain": [
       "<Figure size 432x288 with 1 Axes>"
      ]
     },
     "metadata": {
      "needs_background": "light"
     },
     "output_type": "display_data"
    },
    {
     "name": "stdout",
     "output_type": "stream",
     "text": [
      "1875/1875 [==============================] - 3s 2ms/step - loss: 0.0168 - mean_absolute_error: 0.0429\n",
      "Epoch 86/100\n",
      "1866/1875 [============================>.] - ETA: 0s - loss: 0.0168 - mean_absolute_error: 0.0428- ETA: 1s - loss: "
     ]
    },
    {
     "data": {
      "image/png": "[encoded data removed]",
      "text/plain": [
       "<Figure size 432x288 with 1 Axes>"
      ]
     },
     "metadata": {
      "needs_background": "light"
     },
     "output_type": "display_data"
    },
    {
     "name": "stdout",
     "output_type": "stream",
     "text": [
      "1875/1875 [==============================] - 3s 2ms/step - loss: 0.0168 - mean_absolute_error: 0.0428\n",
      "Epoch 87/100\n",
      "1850/1875 [============================>.] - ETA: 0s - loss: 0.0167 - mean_absolute_error: 0.0427"
     ]
    },
    {
     "data": {
      "image/png": "[encoded data removed]",
      "text/plain": [
       "<Figure size 432x288 with 1 Axes>"
      ]
     },
     "metadata": {
      "needs_background": "light"
     },
     "output_type": "display_data"
    },
    {
     "name": "stdout",
     "output_type": "stream",
     "text": [
      "1875/1875 [==============================] - 3s 2ms/step - loss: 0.0167 - mean_absolute_error: 0.0427\n",
      "Epoch 88/100\n",
      "1856/1875 [============================>.] - ETA: 0s - loss: 0.0167 - mean_absolute_error: 0.0426"
     ]
    },
    {
     "data": {
      "image/png": "[encoded data removed]",
      "text/plain": [
       "<Figure size 432x288 with 1 Axes>"
      ]
     },
     "metadata": {
      "needs_background": "light"
     },
     "output_type": "display_data"
    },
    {
     "name": "stdout",
     "output_type": "stream",
     "text": [
      "1875/1875 [==============================] - 4s 2ms/step - loss: 0.0167 - mean_absolute_error: 0.0426\n",
      "Epoch 89/100\n",
      "1865/1875 [============================>.] - ETA: 0s - loss: 0.0166 - mean_absolute_error: 0.0426"
     ]
    },
    {
     "data": {
      "image/png": "[encoded data removed]",
      "text/plain": [
       "<Figure size 432x288 with 1 Axes>"
      ]
     },
     "metadata": {
      "needs_background": "light"
     },
     "output_type": "display_data"
    },
    {
     "name": "stdout",
     "output_type": "stream",
     "text": [
      "1875/1875 [==============================] - 3s 2ms/step - loss: 0.0166 - mean_absolute_error: 0.0426\n",
      "Epoch 90/100\n",
      "1867/1875 [============================>.] - ETA: 0s - loss: 0.0166 - mean_absolute_error: 0.0425"
     ]
    },
    {
     "data": {
      "image/png": "[encoded data removed]",
      "text/plain": [
       "<Figure size 432x288 with 1 Axes>"
      ]
     },
     "metadata": {
      "needs_background": "light"
     },
     "output_type": "display_data"
    },
    {
     "name": "stdout",
     "output_type": "stream",
     "text": [
      "1875/1875 [==============================] - 3s 2ms/step - loss: 0.0166 - mean_absolute_error: 0.0425\n",
      "Epoch 91/100\n",
      "1852/1875 [============================>.] - ETA: 0s - loss: 0.0166 - mean_absolute_error: 0.0424- ETA: 0s - loss: 0.0166 - mean_absolute_er"
     ]
    },
    {
     "data": {
      "image/png": "[encoded data removed]",
      "text/plain": [
       "<Figure size 432x288 with 1 Axes>"
      ]
     },
     "metadata": {
      "needs_background": "light"
     },
     "output_type": "display_data"
    },
    {
     "name": "stdout",
     "output_type": "stream",
     "text": [
      "1875/1875 [==============================] - 3s 2ms/step - loss: 0.0166 - mean_absolute_error: 0.0424\n",
      "Epoch 92/100\n",
      "1849/1875 [============================>.] - ETA: 0s - loss: 0.0165 - mean_absolute_error: 0.0423"
     ]
    },
    {
     "data": {
      "image/png": "[encoded data removed]",
      "text/plain": [
       "<Figure size 432x288 with 1 Axes>"
      ]
     },
     "metadata": {
      "needs_background": "light"
     },
     "output_type": "display_data"
    },
    {
     "name": "stdout",
     "output_type": "stream",
     "text": [
      "1875/1875 [==============================] - 3s 2ms/step - loss: 0.0165 - mean_absolute_error: 0.0423\n",
      "Epoch 93/100\n",
      "1842/1875 [============================>.] - ETA: 0s - loss: 0.0165 - mean_absolute_error: 0.0422"
     ]
    },
    {
     "data": {
      "image/png": "[encoded data removed]",
      "text/plain": [
       "<Figure size 432x288 with 1 Axes>"
      ]
     },
     "metadata": {
      "needs_background": "light"
     },
     "output_type": "display_data"
    },
    {
     "name": "stdout",
     "output_type": "stream",
     "text": [
      "1875/1875 [==============================] - 3s 2ms/step - loss: 0.0165 - mean_absolute_error: 0.0422\n",
      "Epoch 94/100\n",
      "1864/1875 [============================>.] - ETA: 0s - loss: 0.0165 - mean_absolute_error: 0.0422"
     ]
    },
    {
     "data": {
      "image/png": "[encoded data removed]",
      "text/plain": [
       "<Figure size 432x288 with 1 Axes>"
      ]
     },
     "metadata": {
      "needs_background": "light"
     },
     "output_type": "display_data"
    },
    {
     "name": "stdout",
     "output_type": "stream",
     "text": [
      "1875/1875 [==============================] - 3s 2ms/step - loss: 0.0165 - mean_absolute_error: 0.0422\n",
      "Epoch 95/100\n",
      "1863/1875 [============================>.] - ETA: 0s - loss: 0.0164 - mean_absolute_error: 0.0421"
     ]
    },
    {
     "data": {
      "image/png": "[encoded data removed]",
      "text/plain": [
       "<Figure size 432x288 with 1 Axes>"
      ]
     },
     "metadata": {
      "needs_background": "light"
     },
     "output_type": "display_data"
    },
    {
     "name": "stdout",
     "output_type": "stream",
     "text": [
      "1875/1875 [==============================] - 3s 2ms/step - loss: 0.0164 - mean_absolute_error: 0.0421\n",
      "Epoch 96/100\n",
      "1866/1875 [============================>.] - ETA: 0s - loss: 0.0164 - mean_absolute_error: 0.0420- ETA: 1s - loss: 0.01"
     ]
    },
    {
     "data": {
      "image/png": "[encoded data removed]",
      "text/plain": [
       "<Figure size 432x288 with 1 Axes>"
      ]
     },
     "metadata": {
      "needs_background": "light"
     },
     "output_type": "display_data"
    },
    {
     "name": "stdout",
     "output_type": "stream",
     "text": [
      "1875/1875 [==============================] - 3s 2ms/step - loss: 0.0164 - mean_absolute_error: 0.0420\n",
      "Epoch 97/100\n",
      "1875/1875 [==============================] - ETA: 0s - loss: 0.0164 - mean_absolute_error: 0.0419"
     ]
    },
    {
     "data": {
      "image/png": "[encoded data removed]",
      "text/plain": [
       "<Figure size 432x288 with 1 Axes>"
      ]
     },
     "metadata": {
      "needs_background": "light"
     },
     "output_type": "display_data"
    },
    {
     "name": "stdout",
     "output_type": "stream",
     "text": [
      "1875/1875 [==============================] - 3s 2ms/step - loss: 0.0164 - mean_absolute_error: 0.0419\n",
      "Epoch 98/100\n",
      "1846/1875 [============================>.] - ETA: 0s - loss: 0.0164 - mean_absolute_error: 0.0419"
     ]
    },
    {
     "data": {
      "image/png": "[encoded data removed]",
      "text/plain": [
       "<Figure size 432x288 with 1 Axes>"
      ]
     },
     "metadata": {
      "needs_background": "light"
     },
     "output_type": "display_data"
    },
    {
     "name": "stdout",
     "output_type": "stream",
     "text": [
      "1875/1875 [==============================] - 3s 2ms/step - loss: 0.0164 - mean_absolute_error: 0.0419\n",
      "Epoch 99/100\n",
      "1850/1875 [============================>.] - ETA: 0s - loss: 0.0163 - mean_absolute_error: 0.0418"
     ]
    },
    {
     "data": {
      "image/png": "[encoded data removed]",
      "text/plain": [
       "<Figure size 432x288 with 1 Axes>"
      ]
     },
     "metadata": {
      "needs_background": "light"
     },
     "output_type": "display_data"
    },
    {
     "name": "stdout",
     "output_type": "stream",
     "text": [
      "1875/1875 [==============================] - 3s 2ms/step - loss: 0.0163 - mean_absolute_error: 0.0418\n",
      "Epoch 100/100\n",
      "1857/1875 [============================>.] - ETA: 0s - loss: 0.0163 - mean_absolute_error: 0.0417"
     ]
    },
    {
     "data": {
      "image/png": "[encoded data removed]",
      "text/plain": [
       "<Figure size 432x288 with 1 Axes>"
      ]
     },
     "metadata": {
      "needs_background": "light"
     },
     "output_type": "display_data"
    },
    {
     "name": "stdout",
     "output_type": "stream",
     "text": [
      "\b\b\b\b\b\b\b\b\b\b\b\b\b\b\b\b\b\b\b\b\b\b\b\b\b\b\b\b\b\b\b\b\b\b\b\b\b\b\b\b\b\b\b\b\b\b\b\b\b\b\b\b\b\b\b\b\b\b\b\b\b\b\b\b\b\b\b\b\b\b\b\b\b\b\b\b\b\b\b\b\b\b\b\b\b\b\b\b\b\b\b\b\b\b\b\b\b\r",
      "1875/1875 [==============================] - 3s 2ms/step - loss: 0.0163 - mean_absolute_error: 0.0417\n"
     ]
    },
    {
     "data": {
      "text/plain": [
       "<tensorflow.python.keras.callbacks.History at 0x7fee771ebb70>"
      ]
     },
     "execution_count": 23,
     "metadata": {},
     "output_type": "execute_result"
    }
   ],
   "source": [
    "inputs = layers.Input(shape=(28,28))\n",
    "l = layers.Flatten()(inputs)\n",
    "l = layers.Dense(128, activation=\"relu\")(l)\n",
    "l = layers.Dense(64, activation=\"relu\")(l)\n",
    "encoder = keras.Model(inputs=inputs, outputs=l)\n",
    "\n",
    "code = l = layers.Input(shape=(64,))\n",
    "\n",
    "\n",
    "l = layers.Dense(128, activation=\"relu\")(l)\n",
    "l = outputs = layers.Dense(784, activation=\"relu\")(l)\n",
    "l = layers.Reshape((28,28))(l)\n",
    "decoder = keras.Model(inputs=code,outputs=l)\n",
    "\n",
    "\n",
    "# Build the model\n",
    "model = keras.Model(inputs=inputs, outputs=decoder(encoder(inputs)))\n",
    "model.summary()\n",
    "\n",
    "# Compile and fit\n",
    "model.compile(optimizer=keras.optimizers.Adam(learning_rate=5e-6),\n",
    "             loss=keras.losses.mse,\n",
    "             metrics=[keras.metrics.mae])\n",
    "\n",
    "class ImshowCallback(keras.callbacks.Callback):\n",
    "    def on_epoch_end(self, *args, **kwargs):\n",
    "        self.imshow()\n",
    "        return super().on_epoch_end(*args,**kwargs)\n",
    "        \n",
    "    def imshow(*args,**kwargs):\n",
    "        plt.imshow(model.predict(x_test[:2])[0])\n",
    "        plt.show()\n",
    "\n",
    "plt.imshow(x_test[0])\n",
    "plt.show()\n",
    "model.fit(x_train, x_train, epochs=100, callbacks=[\n",
    "    ImshowCallback(),\n",
    "    keras.callbacks.EarlyStopping('loss', patience=2)])"
   ]
  },
  {
   "cell_type": "code",
   "execution_count": null,
   "metadata": {},
   "outputs": [],
   "source": []
  },
  {
   "cell_type": "code",
   "execution_count": 24,
   "metadata": {},
   "outputs": [],
   "source": [
    "# Let's check how it works as dimentionality reduction"
   ]
  },
  {
   "cell_type": "code",
   "execution_count": 25,
   "metadata": {},
   "outputs": [],
   "source": [
    "CX_train = encoder.predict(x_train)\n",
    "CX_test = encoder.predict(x_test)"
   ]
  },
  {
   "cell_type": "code",
   "execution_count": 26,
   "metadata": {},
   "outputs": [
    {
     "name": "stdout",
     "output_type": "stream",
     "text": [
      "Model: \"model_5\"\n",
      "_________________________________________________________________\n",
      "Layer (type)                 Output Shape              Param #   \n",
      "=================================================================\n",
      "input_5 (InputLayer)         [(None, 64)]              0         \n",
      "_________________________________________________________________\n",
      "dense_8 (Dense)              (None, 32)                2080      \n",
      "_________________________________________________________________\n",
      "dense_9 (Dense)              (None, 10)                330       \n",
      "=================================================================\n",
      "Total params: 2,410\n",
      "Trainable params: 2,410\n",
      "Non-trainable params: 0\n",
      "_________________________________________________________________\n",
      "Epoch 1/100\n",
      "1875/1875 [==============================] - 1s 768us/step - loss: 0.8506 - categorical_accuracy: 0.7420\n",
      "Epoch 2/100\n",
      "1875/1875 [==============================] - 1s 758us/step - loss: 0.4138 - categorical_accuracy: 0.8781\n",
      "Epoch 3/100\n",
      "1875/1875 [==============================] - 1s 797us/step - loss: 0.3634 - categorical_accuracy: 0.8940\n",
      "Epoch 4/100\n",
      "1875/1875 [==============================] - 2s 811us/step - loss: 0.3384 - categorical_accuracy: 0.9019\n",
      "Epoch 5/100\n",
      "1875/1875 [==============================] - 1s 767us/step - loss: 0.3200 - categorical_accuracy: 0.9069\n",
      "Epoch 6/100\n",
      "1875/1875 [==============================] - 1s 775us/step - loss: 0.3068 - categorical_accuracy: 0.9105\n",
      "Epoch 7/100\n",
      "1875/1875 [==============================] - 1s 779us/step - loss: 0.2952 - categorical_accuracy: 0.9135\n",
      "Epoch 8/100\n",
      "1875/1875 [==============================] - 1s 733us/step - loss: 0.2869 - categorical_accuracy: 0.9162\n",
      "Epoch 9/100\n",
      "1875/1875 [==============================] - 2s 824us/step - loss: 0.2781 - categorical_accuracy: 0.9196\n",
      "Epoch 10/100\n",
      "1875/1875 [==============================] - 1s 792us/step - loss: 0.2714 - categorical_accuracy: 0.9202\n",
      "Epoch 11/100\n",
      "1875/1875 [==============================] - 1s 783us/step - loss: 0.2628 - categorical_accuracy: 0.9229\n",
      "Epoch 12/100\n",
      "1875/1875 [==============================] - 1s 735us/step - loss: 0.2561 - categorical_accuracy: 0.9252\n",
      "Epoch 13/100\n",
      "1875/1875 [==============================] - 1s 770us/step - loss: 0.2475 - categorical_accuracy: 0.9279\n",
      "Epoch 14/100\n",
      "1875/1875 [==============================] - 1s 749us/step - loss: 0.2422 - categorical_accuracy: 0.9290\n",
      "Epoch 15/100\n",
      "1875/1875 [==============================] - 1s 744us/step - loss: 0.2336 - categorical_accuracy: 0.9313\n",
      "Epoch 16/100\n",
      "1875/1875 [==============================] - 1s 749us/step - loss: 0.2287 - categorical_accuracy: 0.9322\n",
      "Epoch 17/100\n",
      "1875/1875 [==============================] - 1s 750us/step - loss: 0.2229 - categorical_accuracy: 0.9341\n",
      "Epoch 18/100\n",
      "1875/1875 [==============================] - 1s 777us/step - loss: 0.2176 - categorical_accuracy: 0.9353\n",
      "Epoch 19/100\n",
      "1875/1875 [==============================] - 1s 739us/step - loss: 0.2121 - categorical_accuracy: 0.9376\n",
      "Epoch 20/100\n",
      "1875/1875 [==============================] - 1s 719us/step - loss: 0.2093 - categorical_accuracy: 0.9378\n",
      "Epoch 21/100\n",
      "1875/1875 [==============================] - 1s 755us/step - loss: 0.2038 - categorical_accuracy: 0.9402\n",
      "Epoch 22/100\n",
      "1875/1875 [==============================] - 1s 762us/step - loss: 0.2008 - categorical_accuracy: 0.9405\n",
      "Epoch 23/100\n",
      "1875/1875 [==============================] - 1s 697us/step - loss: 0.1968 - categorical_accuracy: 0.9415\n",
      "Epoch 24/100\n",
      "1875/1875 [==============================] - 1s 700us/step - loss: 0.1958 - categorical_accuracy: 0.9427\n",
      "Epoch 25/100\n",
      "1875/1875 [==============================] - 1s 705us/step - loss: 0.1929 - categorical_accuracy: 0.9430\n",
      "Epoch 26/100\n",
      "1875/1875 [==============================] - 1s 766us/step - loss: 0.1877 - categorical_accuracy: 0.9442\n",
      "Epoch 27/100\n",
      "1875/1875 [==============================] - 1s 747us/step - loss: 0.1862 - categorical_accuracy: 0.9443\n",
      "Epoch 28/100\n",
      "1875/1875 [==============================] - 1s 754us/step - loss: 0.1829 - categorical_accuracy: 0.9452\n",
      "Epoch 29/100\n",
      "1875/1875 [==============================] - 1s 764us/step - loss: 0.1800 - categorical_accuracy: 0.9458\n",
      "Epoch 30/100\n",
      "1875/1875 [==============================] - 1s 706us/step - loss: 0.1772 - categorical_accuracy: 0.9466\n",
      "Epoch 31/100\n",
      "1875/1875 [==============================] - 1s 792us/step - loss: 0.1746 - categorical_accuracy: 0.9480\n",
      "Epoch 32/100\n",
      "1875/1875 [==============================] - 1s 724us/step - loss: 0.1742 - categorical_accuracy: 0.9478\n",
      "Epoch 33/100\n",
      "1875/1875 [==============================] - 2s 836us/step - loss: 0.1713 - categorical_accuracy: 0.9489\n",
      "Epoch 34/100\n",
      "1875/1875 [==============================] - 2s 990us/step - loss: 0.1679 - categorical_accuracy: 0.9498\n",
      "Epoch 35/100\n",
      "1875/1875 [==============================] - 2s 1ms/step - loss: 0.1674 - categorical_accuracy: 0.9502\n",
      "Epoch 36/100\n",
      "1875/1875 [==============================] - 2s 992us/step - loss: 0.1662 - categorical_accuracy: 0.9496\n",
      "Epoch 37/100\n",
      "1875/1875 [==============================] - 2s 988us/step - loss: 0.1643 - categorical_accuracy: 0.9504\n",
      "Epoch 38/100\n",
      "1875/1875 [==============================] - 2s 988us/step - loss: 0.1636 - categorical_accuracy: 0.9501\n",
      "Epoch 39/100\n",
      "1875/1875 [==============================] - 2s 912us/step - loss: 0.1632 - categorical_accuracy: 0.9517\n",
      "Epoch 40/100\n",
      "1875/1875 [==============================] - 2s 938us/step - loss: 0.1597 - categorical_accuracy: 0.9524\n",
      "Epoch 41/100\n",
      "1875/1875 [==============================] - 2s 937us/step - loss: 0.1598 - categorical_accuracy: 0.9517\n",
      "Epoch 42/100\n",
      "1875/1875 [==============================] - 2s 923us/step - loss: 0.1577 - categorical_accuracy: 0.9528\n",
      "Epoch 43/100\n",
      "1875/1875 [==============================] - 2s 1ms/step - loss: 0.1565 - categorical_accuracy: 0.9531\n",
      "Epoch 44/100\n",
      "1875/1875 [==============================] - 2s 912us/step - loss: 0.1552 - categorical_accuracy: 0.9531\n",
      "Epoch 45/100\n",
      "1875/1875 [==============================] - 2s 826us/step - loss: 0.1550 - categorical_accuracy: 0.9538\n",
      "Epoch 46/100\n",
      "1875/1875 [==============================] - 2s 869us/step - loss: 0.1531 - categorical_accuracy: 0.9537\n",
      "Epoch 47/100\n",
      "1875/1875 [==============================] - 2s 905us/step - loss: 0.1514 - categorical_accuracy: 0.9549\n",
      "Epoch 48/100\n",
      "1875/1875 [==============================] - 2s 873us/step - loss: 0.1510 - categorical_accuracy: 0.9543\n",
      "Epoch 49/100\n",
      "1875/1875 [==============================] - 2s 845us/step - loss: 0.1487 - categorical_accuracy: 0.9558\n",
      "Epoch 50/100\n",
      "1875/1875 [==============================] - 1s 781us/step - loss: 0.1497 - categorical_accuracy: 0.9546\n",
      "Epoch 51/100\n",
      "1875/1875 [==============================] - 1s 768us/step - loss: 0.1484 - categorical_accuracy: 0.9554\n",
      "Epoch 52/100\n",
      "1875/1875 [==============================] - 1s 724us/step - loss: 0.1471 - categorical_accuracy: 0.9552\n",
      "Epoch 53/100\n",
      "1875/1875 [==============================] - 1s 749us/step - loss: 0.1450 - categorical_accuracy: 0.9564\n",
      "Epoch 54/100\n",
      "1875/1875 [==============================] - 1s 752us/step - loss: 0.1456 - categorical_accuracy: 0.9561\n",
      "Epoch 55/100\n",
      "1875/1875 [==============================] - 1s 747us/step - loss: 0.1456 - categorical_accuracy: 0.9567\n"
     ]
    },
    {
     "data": {
      "text/plain": [
       "<tensorflow.python.keras.callbacks.History at 0x7fee58544080>"
      ]
     },
     "execution_count": 26,
     "metadata": {},
     "output_type": "execute_result"
    }
   ],
   "source": [
    "\n",
    "l = inputs = layers.Input(shape=(64, ))\n",
    "l = layers.Dense(32 ,activation=\"relu\")(l)\n",
    "outputs = layers.Dense(10, activation=\"softmax\")(l)\n",
    "\n",
    "\n",
    "# Build the model\n",
    "model = keras.Model(inputs=inputs, outputs=outputs)\n",
    "model.summary()\n",
    "\n",
    "# Compile and fit\n",
    "model.compile(optimizer=\"adam\",\n",
    "             loss=keras.losses.categorical_crossentropy,\n",
    "             metrics=[keras.metrics.categorical_accuracy])\n",
    "\n",
    "model.fit(CX_train, y_train, epochs=100, callbacks=[keras.callbacks.EarlyStopping('loss', patience=2)])"
   ]
  },
  {
   "cell_type": "code",
   "execution_count": 28,
   "metadata": {},
   "outputs": [
    {
     "data": {
      "text/plain": [
       "array([[91,  0,  2,  0,  0,  1,  1,  0,  1,  1],\n",
       "       [ 0, 98,  0,  0,  0,  0,  0,  0,  0,  0],\n",
       "       [ 0,  0, 97,  0,  0,  0,  0,  0,  0,  0],\n",
       "       [ 0,  0,  1, 91,  0,  4,  0,  0,  2,  1],\n",
       "       [ 0,  0,  0,  0, 97,  0,  0,  0,  0,  1],\n",
       "       [ 0,  0,  0,  0,  0, 98,  0,  0,  0,  0],\n",
       "       [ 0,  0,  0,  0,  1,  1, 95,  0,  1,  0],\n",
       "       [ 0,  0,  0,  0,  1,  0,  0, 92,  1,  2],\n",
       "       [ 0,  0,  1,  1,  0,  3,  0,  0, 91,  1],\n",
       "       [ 0,  0,  0,  0,  3,  0,  0,  0,  0, 94]])"
      ]
     },
     "execution_count": 28,
     "metadata": {},
     "output_type": "execute_result"
    }
   ],
   "source": [
    "pred = model.predict(encoder.predict(x_test))\n",
    "y_pred = y_encoder.inverse_transform(pred.round())\n",
    "cm = confusion_matrix(y_pred, y_test.reshape(-1,1))\n",
    "(cm/cm.sum(axis=1)*100).round(2).astype(int)"
   ]
  },
  {
   "cell_type": "code",
   "execution_count": null,
   "metadata": {},
   "outputs": [],
   "source": []
  },
  {
   "cell_type": "code",
   "execution_count": null,
   "metadata": {},
   "outputs": [],
   "source": []
  },
  {
   "cell_type": "code",
   "execution_count": null,
   "metadata": {},
   "outputs": [],
   "source": []
  }
 ],
 "metadata": {
  "kernelspec": {
   "display_name": "Python 3",
   "language": "python",
   "name": "python3"
  },
  "language_info": {
   "codemirror_mode": {
    "name": "ipython",
    "version": 3
   },
   "file_extension": ".py",
   "mimetype": "text/x-python",
   "name": "python",
   "nbconvert_exporter": "python",
   "pygments_lexer": "ipython3",
   "version": "3.7.2"
  }
 },
 "nbformat": 4,
 "nbformat_minor": 4
}
