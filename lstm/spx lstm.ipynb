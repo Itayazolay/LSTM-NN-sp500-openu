{
 "cells": [
  {
   "cell_type": "code",
   "execution_count": 1,
   "metadata": {},
   "outputs": [
    {
     "name": "stdout",
     "output_type": "stream",
     "text": [
      "/Users/itay/Documents/university/DataScience/venv/bin/python\r\n"
     ]
    }
   ],
   "source": [
    "!which python"
   ]
  },
  {
   "cell_type": "code",
   "execution_count": 2,
   "metadata": {},
   "outputs": [],
   "source": [
    "import pandas as pd\n",
    "from tensorflow.keras import layers, Model\n",
    "from sklearn.preprocessing import StandardScaler\n",
    "import matplotlib.pyplot as plt \n",
    "from tensorflow import keras\n",
    "import numpy as np\n",
    "import seaborn as sns\n",
    "import matplotlib.pyplot as plt"
   ]
  },
  {
   "cell_type": "code",
   "execution_count": 3,
   "metadata": {},
   "outputs": [],
   "source": [
    "\n",
    "df = pd.read_csv(\"/Users/itay/Downloads/spx.csv\", parse_dates=['date'], index_col='date')"
   ]
  },
  {
   "cell_type": "code",
   "execution_count": 4,
   "metadata": {},
   "outputs": [
    {
     "data": {
      "text/plain": [
       "((7782, 1), (410, 1))"
      ]
     },
     "execution_count": 4,
     "metadata": {},
     "output_type": "execute_result"
    }
   ],
   "source": [
    "sep = int(len(df)*0.95)\n",
    "train, test = df.iloc[:sep], df.iloc[sep:]\n",
    "\n",
    "train.shape, test.shape"
   ]
  },
  {
   "cell_type": "code",
   "execution_count": 5,
   "metadata": {},
   "outputs": [
    {
     "data": {
      "text/plain": [
       "StandardScaler()"
      ]
     },
     "execution_count": 5,
     "metadata": {},
     "output_type": "execute_result"
    }
   ],
   "source": [
    "\n",
    "\n",
    "scaler = StandardScaler()\n",
    "scaler.fit(train[[\"close\"]])"
   ]
  },
  {
   "cell_type": "code",
   "execution_count": 6,
   "metadata": {},
   "outputs": [
    {
     "name": "stderr",
     "output_type": "stream",
     "text": [
      "/Users/itay/Documents/university/DataScience/venv/lib/python3.7/site-packages/pandas/core/generic.py:5303: SettingWithCopyWarning: \n",
      "A value is trying to be set on a copy of a slice from a DataFrame.\n",
      "Try using .loc[row_indexer,col_indexer] = value instead\n",
      "\n",
      "See the caveats in the documentation: https://pandas.pydata.org/pandas-docs/stable/user_guide/indexing.html#returning-a-view-versus-a-copy\n",
      "  self[name] = value\n",
      "/Users/itay/Documents/university/DataScience/venv/lib/python3.7/site-packages/pandas/core/generic.py:5303: SettingWithCopyWarning: \n",
      "A value is trying to be set on a copy of a slice from a DataFrame.\n",
      "Try using .loc[row_indexer,col_indexer] = value instead\n",
      "\n",
      "See the caveats in the documentation: https://pandas.pydata.org/pandas-docs/stable/user_guide/indexing.html#returning-a-view-versus-a-copy\n",
      "  self[name] = value\n"
     ]
    }
   ],
   "source": [
    "train.close = scaler.transform(train[[\"close\"]])\n",
    "test.close = scaler.transform(test[[\"close\"]])\n",
    "window = 30"
   ]
  },
  {
   "cell_type": "code",
   "execution_count": null,
   "metadata": {},
   "outputs": [],
   "source": []
  },
  {
   "cell_type": "code",
   "execution_count": 7,
   "metadata": {},
   "outputs": [
    {
     "data": {
      "text/html": [
       "<div>\n",
       "<style scoped>\n",
       "    .dataframe tbody tr th:only-of-type {\n",
       "        vertical-align: middle;\n",
       "    }\n",
       "\n",
       "    .dataframe tbody tr th {\n",
       "        vertical-align: top;\n",
       "    }\n",
       "\n",
       "    .dataframe thead th {\n",
       "        text-align: right;\n",
       "    }\n",
       "</style>\n",
       "<table border=\"1\" class=\"dataframe\">\n",
       "  <thead>\n",
       "    <tr style=\"text-align: right;\">\n",
       "      <th></th>\n",
       "      <th>close</th>\n",
       "    </tr>\n",
       "    <tr>\n",
       "      <th>date</th>\n",
       "      <th></th>\n",
       "    </tr>\n",
       "  </thead>\n",
       "  <tbody>\n",
       "    <tr>\n",
       "      <th>1986-01-02</th>\n",
       "      <td>-1.475126</td>\n",
       "    </tr>\n",
       "    <tr>\n",
       "      <th>1986-01-03</th>\n",
       "      <td>-1.472703</td>\n",
       "    </tr>\n",
       "    <tr>\n",
       "      <th>1986-01-06</th>\n",
       "      <td>-1.473135</td>\n",
       "    </tr>\n",
       "    <tr>\n",
       "      <th>1986-01-07</th>\n",
       "      <td>-1.467219</td>\n",
       "    </tr>\n",
       "    <tr>\n",
       "      <th>1986-01-08</th>\n",
       "      <td>-1.478169</td>\n",
       "    </tr>\n",
       "    <tr>\n",
       "      <th>1986-01-09</th>\n",
       "      <td>-1.481663</td>\n",
       "    </tr>\n",
       "    <tr>\n",
       "      <th>1986-01-10</th>\n",
       "      <td>-1.481945</td>\n",
       "    </tr>\n",
       "    <tr>\n",
       "      <th>1986-01-13</th>\n",
       "      <td>-1.480517</td>\n",
       "    </tr>\n",
       "    <tr>\n",
       "      <th>1986-01-14</th>\n",
       "      <td>-1.480667</td>\n",
       "    </tr>\n",
       "    <tr>\n",
       "      <th>1986-01-15</th>\n",
       "      <td>-1.477625</td>\n",
       "    </tr>\n",
       "    <tr>\n",
       "      <th>1986-01-16</th>\n",
       "      <td>-1.475915</td>\n",
       "    </tr>\n",
       "    <tr>\n",
       "      <th>1986-01-17</th>\n",
       "      <td>-1.477305</td>\n",
       "    </tr>\n",
       "    <tr>\n",
       "      <th>1986-01-20</th>\n",
       "      <td>-1.478996</td>\n",
       "    </tr>\n",
       "    <tr>\n",
       "      <th>1986-01-21</th>\n",
       "      <td>-1.482264</td>\n",
       "    </tr>\n",
       "    <tr>\n",
       "      <th>1986-01-22</th>\n",
       "      <td>-1.486584</td>\n",
       "    </tr>\n",
       "    <tr>\n",
       "      <th>1986-01-23</th>\n",
       "      <td>-1.485156</td>\n",
       "    </tr>\n",
       "    <tr>\n",
       "      <th>1986-01-24</th>\n",
       "      <td>-1.481062</td>\n",
       "    </tr>\n",
       "    <tr>\n",
       "      <th>1986-01-27</th>\n",
       "      <td>-1.479259</td>\n",
       "    </tr>\n",
       "    <tr>\n",
       "      <th>1986-01-28</th>\n",
       "      <td>-1.474713</td>\n",
       "    </tr>\n",
       "    <tr>\n",
       "      <th>1986-01-29</th>\n",
       "      <td>-1.473812</td>\n",
       "    </tr>\n",
       "  </tbody>\n",
       "</table>\n",
       "</div>"
      ],
      "text/plain": [
       "               close\n",
       "date                \n",
       "1986-01-02 -1.475126\n",
       "1986-01-03 -1.472703\n",
       "1986-01-06 -1.473135\n",
       "1986-01-07 -1.467219\n",
       "1986-01-08 -1.478169\n",
       "1986-01-09 -1.481663\n",
       "1986-01-10 -1.481945\n",
       "1986-01-13 -1.480517\n",
       "1986-01-14 -1.480667\n",
       "1986-01-15 -1.477625\n",
       "1986-01-16 -1.475915\n",
       "1986-01-17 -1.477305\n",
       "1986-01-20 -1.478996\n",
       "1986-01-21 -1.482264\n",
       "1986-01-22 -1.486584\n",
       "1986-01-23 -1.485156\n",
       "1986-01-24 -1.481062\n",
       "1986-01-27 -1.479259\n",
       "1986-01-28 -1.474713\n",
       "1986-01-29 -1.473812"
      ]
     },
     "execution_count": 7,
     "metadata": {},
     "output_type": "execute_result"
    }
   ],
   "source": [
    "def create_database(df, window): \n",
    "    items = []\n",
    "    for i, (s, e) in enumerate(zip(range(0,len(df)-window), range(window, len(df)))):\n",
    "        items.append(df.values[s:e].ravel())\n",
    "#     return items\n",
    "    df_ = pd.DataFrame(items)\n",
    "    X = df_[range(window)]\n",
    "    return X.values.reshape(*X.shape, 1)\n",
    "    \n",
    "\n",
    "X_train = create_database(train, window)\n",
    "X_test = create_database(test, window)\n",
    "\n",
    "train.head(20)"
   ]
  },
  {
   "cell_type": "code",
   "execution_count": 8,
   "metadata": {
    "scrolled": false
   },
   "outputs": [
    {
     "data": {
      "text/plain": [
       "<AxesSubplot:xlabel='date', ylabel='close'>"
      ]
     },
     "execution_count": 8,
     "metadata": {},
     "output_type": "execute_result"
    },
    {
     "data": {
      "image/png": "[encoded data removed]",
      "text/plain": [
       "<Figure size 720x720 with 1 Axes>"
      ]
     },
     "metadata": {
      "needs_background": "light"
     },
     "output_type": "display_data"
    }
   ],
   "source": [
    "plt.figure(figsize=(10,10))\n",
    "sns.lineplot(x=\"date\", y=\"close\", data=train.reset_index())\n"
   ]
  },
  {
   "cell_type": "code",
   "execution_count": 40,
   "metadata": {},
   "outputs": [
    {
     "name": "stdout",
     "output_type": "stream",
     "text": [
      "Model: \"model_1\"\n",
      "_________________________________________________________________\n",
      "Layer (type)                 Output Shape              Param #   \n",
      "=================================================================\n",
      "input_2 (InputLayer)         [(None, 30, 1)]           0         \n",
      "_________________________________________________________________\n",
      "lstm_2 (LSTM)                (None, 32)                4352      \n",
      "_________________________________________________________________\n",
      "dropout_1 (Dropout)          (None, 32)                0         \n",
      "_________________________________________________________________\n",
      "repeat_vector_1 (RepeatVecto (None, 30, 32)            0         \n",
      "_________________________________________________________________\n",
      "lstm_3 (LSTM)                (None, 30, 32)            8320      \n",
      "_________________________________________________________________\n",
      "time_distributed_1 (TimeDist (None, 30, 1)             33        \n",
      "=================================================================\n",
      "Total params: 12,705\n",
      "Trainable params: 12,705\n",
      "Non-trainable params: 0\n",
      "_________________________________________________________________\n"
     ]
    }
   ],
   "source": [
    "timesteps = X_train.shape[1]\n",
    "features = X_train.shape[2]\n",
    "inputs = layers.Input(shape = (timesteps, features))\n",
    "l = layers.LSTM(units=32, dtype='float32')(inputs)\n",
    "l = layers.Dropout(0.2)(l)\n",
    "l = layers.RepeatVector(n=timesteps)(l)\n",
    "l = layers.LSTM(units=32, return_sequences=True)(l)\n",
    "outputs = l = layers.TimeDistributed(layers.Dense(units=1))(l)\n",
    "model = Model(inputs = inputs, outputs=outputs)\n",
    "model.summary()\n",
    "model.compile(loss=\"mae\", optimizer=\"adam\")\n"
   ]
  },
  {
   "cell_type": "code",
   "execution_count": 41,
   "metadata": {},
   "outputs": [
    {
     "name": "stdout",
     "output_type": "stream",
     "text": [
      "Epoch 1/6\n",
      "218/218 [==============================] - 4s 19ms/step - loss: 0.2259 - val_loss: 0.5017\n",
      "Epoch 2/6\n",
      "218/218 [==============================] - 3s 16ms/step - loss: 0.1384 - val_loss: 0.3713\n",
      "Epoch 3/6\n",
      "218/218 [==============================] - 4s 17ms/step - loss: 0.1583 - val_loss: 0.3642\n",
      "Epoch 4/6\n",
      "218/218 [==============================] - 4s 20ms/step - loss: 0.1824 - val_loss: 0.3155\n",
      "Epoch 5/6\n",
      "218/218 [==============================] - 4s 19ms/step - loss: 0.1604 - val_loss: 0.3424\n",
      "Epoch 6/6\n",
      "218/218 [==============================] - 4s 16ms/step - loss: 0.1660 - val_loss: 0.3554\n"
     ]
    },
    {
     "data": {
      "text/plain": [
       "<tensorflow.python.keras.callbacks.History at 0x7fc25f3ef7b8>"
      ]
     },
     "execution_count": 41,
     "metadata": {},
     "output_type": "execute_result"
    }
   ],
   "source": [
    "model.fit(X_train, X_train,batch_size=32,\n",
    "          validation_split=0.1,\n",
    "          epochs=6, shuffle=False)"
   ]
  },
  {
   "cell_type": "code",
   "execution_count": 11,
   "metadata": {},
   "outputs": [
    {
     "data": {
      "text/plain": [
       "(380, 30, 1)"
      ]
     },
     "execution_count": 11,
     "metadata": {},
     "output_type": "execute_result"
    }
   ],
   "source": [
    "pred = model.predict(x=X_test)\n",
    "pred.shape"
   ]
  },
  {
   "cell_type": "code",
   "execution_count": 12,
   "metadata": {},
   "outputs": [],
   "source": [
    "\n",
    "diffs = np.mean(np.abs(pred - X_test), axis=1)"
   ]
  },
  {
   "cell_type": "code",
   "execution_count": 13,
   "metadata": {},
   "outputs": [
    {
     "data": {
      "text/plain": [
       "<AxesSubplot:>"
      ]
     },
     "execution_count": 13,
     "metadata": {},
     "output_type": "execute_result"
    },
    {
     "data": {
      "image/png": "[encoded data removed]",
      "text/plain": [
       "<Figure size 432x288 with 1 Axes>"
      ]
     },
     "metadata": {
      "needs_background": "light"
     },
     "output_type": "display_data"
    }
   ],
   "source": [
    "\n",
    "sns.distplot(diffs)"
   ]
  },
  {
   "cell_type": "code",
   "execution_count": 33,
   "metadata": {},
   "outputs": [],
   "source": [
    "threshold = np.percentile(np.abs(pred - X_test), [95.0])"
   ]
  },
  {
   "cell_type": "code",
   "execution_count": 34,
   "metadata": {},
   "outputs": [],
   "source": [
    "anomalies = (np.abs(pred - X_test) > threshold)"
   ]
  },
  {
   "cell_type": "code",
   "execution_count": 35,
   "metadata": {},
   "outputs": [],
   "source": [
    "anomalies = anomalies[:,-1,0]"
   ]
  },
  {
   "cell_type": "code",
   "execution_count": 36,
   "metadata": {},
   "outputs": [
    {
     "data": {
      "text/plain": [
       "((380,), (410, 1))"
      ]
     },
     "execution_count": 36,
     "metadata": {},
     "output_type": "execute_result"
    }
   ],
   "source": [
    "anomalies.shape, test.shape"
   ]
  },
  {
   "cell_type": "code",
   "execution_count": 37,
   "metadata": {
    "scrolled": true
   },
   "outputs": [
    {
     "name": "stdout",
     "output_type": "stream",
     "text": [
      "Found 25 anomalies of 380 events\n"
     ]
    }
   ],
   "source": [
    "print(f\"Found {np.count_nonzero(anomalies)} anomalies of {len(anomalies)} events\")"
   ]
  },
  {
   "cell_type": "code",
   "execution_count": 38,
   "metadata": {},
   "outputs": [
    {
     "data": {
      "text/plain": [
       "<AxesSubplot:xlabel='date', ylabel='close'>"
      ]
     },
     "execution_count": 38,
     "metadata": {},
     "output_type": "execute_result"
    },
    {
     "data": {
      "image/png": "[encoded data removed]",
      "text/plain": [
       "<Figure size 720x720 with 1 Axes>"
      ]
     },
     "metadata": {
      "needs_background": "light"
     },
     "output_type": "display_data"
    }
   ],
   "source": [
    "y_test = test.iloc[window:].assign(anomaly=anomalies).reset_index()\n",
    "plt.figure(figsize=(10,10))\n",
    "sns.lineplot(x=\"date\", y='close', data=y_test, ci=\"sd\", dashes=False)\n",
    "sns.scatterplot(x=\"date\", y=\"close\", data=y_test[y_test.anomaly],)"
   ]
  },
  {
   "cell_type": "code",
   "execution_count": 20,
   "metadata": {},
   "outputs": [
    {
     "data": {
      "text/html": [
       "<div>\n",
       "<style scoped>\n",
       "    .dataframe tbody tr th:only-of-type {\n",
       "        vertical-align: middle;\n",
       "    }\n",
       "\n",
       "    .dataframe tbody tr th {\n",
       "        vertical-align: top;\n",
       "    }\n",
       "\n",
       "    .dataframe thead th {\n",
       "        text-align: right;\n",
       "    }\n",
       "</style>\n",
       "<table border=\"1\" class=\"dataframe\">\n",
       "  <thead>\n",
       "    <tr style=\"text-align: right;\">\n",
       "      <th></th>\n",
       "      <th>date</th>\n",
       "      <th>close</th>\n",
       "      <th>anomaly</th>\n",
       "    </tr>\n",
       "  </thead>\n",
       "  <tbody>\n",
       "    <tr>\n",
       "      <th>207</th>\n",
       "      <td>2017-10-23</td>\n",
       "      <td>2.948977</td>\n",
       "      <td>True</td>\n",
       "    </tr>\n",
       "    <tr>\n",
       "      <th>212</th>\n",
       "      <td>2017-10-30</td>\n",
       "      <td>2.963722</td>\n",
       "      <td>True</td>\n",
       "    </tr>\n",
       "    <tr>\n",
       "      <th>214</th>\n",
       "      <td>2017-11-01</td>\n",
       "      <td>2.975987</td>\n",
       "      <td>True</td>\n",
       "    </tr>\n",
       "    <tr>\n",
       "      <th>215</th>\n",
       "      <td>2017-11-02</td>\n",
       "      <td>2.976908</td>\n",
       "      <td>True</td>\n",
       "    </tr>\n",
       "    <tr>\n",
       "      <th>216</th>\n",
       "      <td>2017-11-03</td>\n",
       "      <td>2.991915</td>\n",
       "      <td>True</td>\n",
       "    </tr>\n",
       "    <tr>\n",
       "      <th>...</th>\n",
       "      <td>...</td>\n",
       "      <td>...</td>\n",
       "      <td>...</td>\n",
       "    </tr>\n",
       "    <tr>\n",
       "      <th>375</th>\n",
       "      <td>2018-06-25</td>\n",
       "      <td>3.234646</td>\n",
       "      <td>True</td>\n",
       "    </tr>\n",
       "    <tr>\n",
       "      <th>376</th>\n",
       "      <td>2018-06-26</td>\n",
       "      <td>3.245897</td>\n",
       "      <td>True</td>\n",
       "    </tr>\n",
       "    <tr>\n",
       "      <th>377</th>\n",
       "      <td>2018-06-27</td>\n",
       "      <td>3.201889</td>\n",
       "      <td>True</td>\n",
       "    </tr>\n",
       "    <tr>\n",
       "      <th>378</th>\n",
       "      <td>2018-06-28</td>\n",
       "      <td>3.233219</td>\n",
       "      <td>True</td>\n",
       "    </tr>\n",
       "    <tr>\n",
       "      <th>379</th>\n",
       "      <td>2018-06-29</td>\n",
       "      <td>3.237088</td>\n",
       "      <td>True</td>\n",
       "    </tr>\n",
       "  </tbody>\n",
       "</table>\n",
       "<p>166 rows × 3 columns</p>\n",
       "</div>"
      ],
      "text/plain": [
       "          date     close  anomaly\n",
       "207 2017-10-23  2.948977     True\n",
       "212 2017-10-30  2.963722     True\n",
       "214 2017-11-01  2.975987     True\n",
       "215 2017-11-02  2.976908     True\n",
       "216 2017-11-03  2.991915     True\n",
       "..         ...       ...      ...\n",
       "375 2018-06-25  3.234646     True\n",
       "376 2018-06-26  3.245897     True\n",
       "377 2018-06-27  3.201889     True\n",
       "378 2018-06-28  3.233219     True\n",
       "379 2018-06-29  3.237088     True\n",
       "\n",
       "[166 rows x 3 columns]"
      ]
     },
     "execution_count": 20,
     "metadata": {},
     "output_type": "execute_result"
    }
   ],
   "source": [
    "y_test.assign(anomaly=anomalies)[anomalies]"
   ]
  },
  {
   "cell_type": "code",
   "execution_count": null,
   "metadata": {},
   "outputs": [],
   "source": []
  }
 ],
 "metadata": {
  "kernelspec": {
   "display_name": "Python 3",
   "language": "python",
   "name": "python3"
  },
  "language_info": {
   "codemirror_mode": {
    "name": "ipython",
    "version": 3
   },
   "file_extension": ".py",
   "mimetype": "text/x-python",
   "name": "python",
   "nbconvert_exporter": "python",
   "pygments_lexer": "ipython3",
   "version": "3.8.3"
  }
 },
 "nbformat": 4,
 "nbformat_minor": 4
}
